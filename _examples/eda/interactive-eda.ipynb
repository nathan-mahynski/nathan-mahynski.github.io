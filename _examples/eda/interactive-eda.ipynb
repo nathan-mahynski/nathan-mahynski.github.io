{
  "cells": [
    {
      "cell_type": "code",
      "source": [
        "!pip install lux-api\n",
        "!jupyter nbextension install --py luxwidget\n",
        "!jupyter nbextension enable --py luxwidget"
      ],
      "metadata": {
        "id": "Ql89GnIua_8T"
      },
      "id": "Ql89GnIua_8T",
      "execution_count": null,
      "outputs": []
    },
    {
      "cell_type": "code",
      "source": [
        "!pip install dtale"
      ],
      "metadata": {
        "id": "Owhs4q00bBCw"
      },
      "id": "Owhs4q00bBCw",
      "execution_count": null,
      "outputs": []
    },
    {
      "cell_type": "code",
      "source": [
        "import lux # Lux must be imported before pandas\n",
        "import pandas as pd\n",
        "\n",
        "import dtale"
      ],
      "metadata": {
        "id": "LLhq6qb6bB8A"
      },
      "id": "LLhq6qb6bB8A",
      "execution_count": 3,
      "outputs": []
    },
    {
      "cell_type": "code",
      "source": [
        "import sklearn\n",
        "from sklearn import datasets\n",
        "\n",
        "import os\n",
        "import numpy as np\n",
        "using_colab = 'google.colab' in str(get_ipython())\n",
        "using_binder = np.any(['binder' in x.lower() for x in os.environ.keys()])"
      ],
      "metadata": {
        "id": "802ffewFbJGl"
      },
      "id": "802ffewFbJGl",
      "execution_count": 4,
      "outputs": []
    },
    {
      "cell_type": "code",
      "execution_count": 5,
      "id": "f0365558",
      "metadata": {
        "id": "f0365558"
      },
      "outputs": [],
      "source": [
        "dataset = sklearn.datasets.fetch_california_housing(as_frame=True)"
      ]
    },
    {
      "cell_type": "code",
      "execution_count": 6,
      "id": "537158e8",
      "metadata": {
        "id": "537158e8"
      },
      "outputs": [],
      "source": [
        "df = dataset['data'] # X\n",
        "df['MedHouseVal'] = dataset['target'] # y"
      ]
    },
    {
      "cell_type": "markdown",
      "id": "f0a5c190",
      "metadata": {
        "id": "f0a5c190"
      },
      "source": [
        "# D-Tale"
      ]
    },
    {
      "cell_type": "markdown",
      "id": "983b4f6c",
      "metadata": {
        "id": "983b4f6c"
      },
      "source": [
        "According to the developers: ``D-Tale is the combination of a Flask back-end and a React front-end to bring you an easy way to view & analyze Pandas data structures. It integrates seamlessly with ipython notebooks & python/ipython terminals. Currently this tool supports such Pandas objects as DataFrame, Series, MultiIndex, DatetimeIndex & RangeIndex.''\n",
        "\n",
        "See the GitHub repo for up-to-date details: https://github.com/man-group/dtale\n",
        "\n",
        "In general, this is very useful for EDA!  However, for reproducibility purposes, final analysis should always be scripted. Still, this is a very powerful tool for quickly viewing, summarizing data, identifying possible issues, and generating hypotheses - exactly what EDA is supposed to do."
      ]
    },
    {
      "cell_type": "code",
      "execution_count": 7,
      "id": "7f8388ef",
      "metadata": {
        "id": "7f8388ef"
      },
      "outputs": [],
      "source": [
        "if using_colab:\n",
        "  import dtale.app as dtale_app\n",
        "  dtale_app.USE_COLAB = True\n",
        "elif using_binder:\n",
        "  !pip install jupyter-server-proxy\n",
        "  !pip install nbserverproxy\n",
        "  !jupyter serverextension enable --sys-prefix jupyter_server_proxy\n",
        "\n",
        "  import dtale.app as dtale_app\n",
        "  dtale_app.JUPYTER_SERVER_PROXY = True"
      ]
    },
    {
      "cell_type": "code",
      "execution_count": null,
      "id": "d4ffeac3",
      "metadata": {
        "id": "d4ffeac3"
      },
      "outputs": [],
      "source": [
        "df # In Pandas"
      ]
    },
    {
      "cell_type": "code",
      "execution_count": 9,
      "id": "e8a64a32",
      "metadata": {
        "scrolled": true,
        "id": "e8a64a32",
        "outputId": "8a8174a3-0e06-444a-8826-1ff1b161fe9d",
        "colab": {
          "base_uri": "https://localhost:8080/",
          "height": 34
        }
      },
      "outputs": [
        {
          "output_type": "execute_result",
          "data": {
            "text/plain": [
              "https://z9ph4dn88g-496ff2e9c6d22116-40000-colab.googleusercontent.com/dtale/main/1"
            ]
          },
          "metadata": {},
          "execution_count": 9
        }
      ],
      "source": [
        "dtale.show(df) # In D-Tale!"
      ]
    },
    {
      "cell_type": "markdown",
      "id": "d15a6b37",
      "metadata": {
        "id": "d15a6b37"
      },
      "source": [
        "To look at the dataframe in a new browser, try the code below.  Note that this does not seem to work when logging\n",
        "into a remote Jupyter server. However, there lots of configuration tools, and even a way to use this on Colab.\n",
        "Refer to the documentation for the most up-to-date examples: https://github.com/man-group/dtale"
      ]
    },
    {
      "cell_type": "code",
      "execution_count": 10,
      "id": "62cea5c5",
      "metadata": {
        "id": "62cea5c5"
      },
      "outputs": [],
      "source": [
        "# dtale.show(df).open_browser()\n",
        "# You can also \" > Open in New Tab\""
      ]
    },
    {
      "cell_type": "markdown",
      "id": "3f02c0fa",
      "metadata": {
        "id": "3f02c0fa"
      },
      "source": [
        "Some things to try:\n",
        "    \n",
        "1. Click on the header to get a description of the rows, types, skew, outliers, etc.\n",
        "2. Select 'Filter outliers' at the bottom of the pop-up to remove rows that are considered outliers.\n",
        "3. Click 'Describe' to see descriptive statistics - also check out the histograms and Q-Q plot!\n",
        "4. View Duplicates.\n",
        "5. Convert the column type.\n",
        "6. Select 'Heat Map' to highlight rows based on values.\n",
        "7. Use 'Replacements' to replace NaN, etc. using various tools including sklearn imputers.\n",
        "8. Use filters at the bottom to filter rows based on criteria; click on the icon to get a pop-up that lets you build more complex criteria!\n",
        "9. Double click on a row to change the value!\n",
        "10. Under the '>' icon in the top left, select 'Clean Columns' to explore options to clean data.\n",
        "11. Under the '>' icon in the top left, select 'Feature Analysis by Correlation' to see how columns are correlated with one another.\n",
        "12. Under the '>' icon in the top left, select 'Charts' to make various plots of features against each other.\n",
        "\n",
        "D-Tale is also \"smart\" about inferring things from your column labels. For example, if you look at the Describe options for Latitude or Longitude, it will detect the other and give a \"Geolocation\" option.  Try it out!\n",
        "\n",
        "Check out Animations under different types of Charts!"
      ]
    },
    {
      "cell_type": "markdown",
      "id": "2f343226",
      "metadata": {
        "id": "2f343226"
      },
      "source": [
        "# Lux"
      ]
    },
    {
      "cell_type": "markdown",
      "id": "ce139205",
      "metadata": {
        "id": "ce139205"
      },
      "source": [
        "According to the developers: ``Lux is a Python library that makes data science easier by automating certain aspects of the data exploration process. Lux is designed to facilitate faster experimentation with data, even when the user does not have a clear idea of what they are looking for.''\n",
        "\n",
        "See the documentation for up-to-date information: https://lux-api.readthedocs.io/en/latest/index.html\n",
        "\n",
        "See the installation instructions here: https://lux-api.readthedocs.io/en/latest/source/getting_started/installation.html\n",
        "\n",
        "If using anaconda, install using: \n",
        "\n",
        "```code\n",
        "$ conda activate myenv\n",
        "$ conda install -c conda-forge lux-api\n",
        "$ sudo mkdir /usr/local/share/jupyter; sudo chown -R $USER /usr/local/share/jupyter\n",
        "$ jupyter nbextension install --py luxwidget\n",
        "$ jupyter nbextension enable --py luxwidget\n",
        "```\n",
        "\n",
        "Note: You do need to **create the dataframe AFTER the import** statement (at least at the time of writing); trying to display previously created dataframes does not work."
      ]
    },
    {
      "cell_type": "code",
      "source": [
        "if using_colab:\n",
        "  from google.colab import output\n",
        "  output.enable_custom_widget_manager()"
      ],
      "metadata": {
        "id": "b8MhA2SQW8lU"
      },
      "id": "b8MhA2SQW8lU",
      "execution_count": 11,
      "outputs": []
    },
    {
      "cell_type": "code",
      "execution_count": 16,
      "id": "02d1a22c",
      "metadata": {
        "id": "02d1a22c"
      },
      "outputs": [],
      "source": [
        "df = dataset['data'] # X\n",
        "df['MedHouseVal'] = dataset['target'] # y"
      ]
    },
    {
      "cell_type": "code",
      "source": [
        "df.default_display = \"lux\" # Set Lux as default display for this dataframe"
      ],
      "metadata": {
        "id": "YDE81titbjng"
      },
      "id": "YDE81titbjng",
      "execution_count": 17,
      "outputs": []
    },
    {
      "cell_type": "code",
      "execution_count": null,
      "id": "f9ce782d",
      "metadata": {
        "id": "f9ce782d"
      },
      "outputs": [],
      "source": [
        "df"
      ]
    },
    {
      "cell_type": "markdown",
      "id": "6781f8f0",
      "metadata": {
        "id": "6781f8f0"
      },
      "source": [
        "By default up to 3 types of [\"analytical actions\"](https://lux-api.readthedocs.io/en/latest/source/reference/lux.action.html) are used to determine what is \"interesting\".\n",
        "\n",
        "* The Correlation Tab shows pairwise relationships between quantitative attributes from most linearly correlated (Pearson's correlation score) to least correlated.\n",
        "* The Distribution Tab shows univariate distributions ordered from most skewed to least skewed. \n",
        "* The Occurrence Tab shows up for categorical features and displays a series of bar charts. (no examples in this dataset)\n",
        "\n",
        "You can \"steer\" these defaults by suggesting an \"intent\" described in more detail [here](https://lux-api.readthedocs.io/en/latest/source/getting_started/overview.html#steering-recommendations-via-user-intent)."
      ]
    },
    {
      "cell_type": "code",
      "execution_count": 19,
      "id": "d250cda7",
      "metadata": {
        "id": "d250cda7"
      },
      "outputs": [],
      "source": [
        "df.intent = ['MedInc','MedHouseVal']"
      ]
    },
    {
      "cell_type": "code",
      "source": [
        "df"
      ],
      "metadata": {
        "id": "XRHsVACVbwNI"
      },
      "id": "XRHsVACVbwNI",
      "execution_count": null,
      "outputs": []
    },
    {
      "cell_type": "code",
      "execution_count": null,
      "id": "49c4f7fa",
      "metadata": {
        "id": "49c4f7fa"
      },
      "outputs": [],
      "source": [
        "# You can select a window and click the export button (top right)\n",
        "df.exported"
      ]
    },
    {
      "cell_type": "code",
      "execution_count": null,
      "id": "24ba8803",
      "metadata": {
        "id": "24ba8803"
      },
      "outputs": [],
      "source": [
        "# You can see recommendations of \"interesting things\" from Lux \n",
        "df.recommendation"
      ]
    },
    {
      "cell_type": "code",
      "execution_count": null,
      "id": "70984003",
      "metadata": {
        "id": "70984003"
      },
      "outputs": [],
      "source": [
        "# You can also access these plots\n",
        "df.recommendation['Enhance'][0]"
      ]
    },
    {
      "cell_type": "code",
      "execution_count": 24,
      "id": "90603dc6",
      "metadata": {
        "id": "90603dc6"
      },
      "outputs": [],
      "source": [
        "# The great thing about Lux is that you can get raw code to reproduce these plots so you can further modify them as needed\n",
        "code = df.recommendation['Enhance'][0].to_code('matplotlib')"
      ]
    },
    {
      "cell_type": "code",
      "execution_count": null,
      "id": "4f891caf",
      "metadata": {
        "id": "4f891caf"
      },
      "outputs": [],
      "source": [
        "print(code)"
      ]
    }
  ],
  "metadata": {
    "kernelspec": {
      "display_name": "py37",
      "language": "python",
      "name": "py37"
    },
    "language_info": {
      "codemirror_mode": {
        "name": "ipython",
        "version": 3
      },
      "file_extension": ".py",
      "mimetype": "text/x-python",
      "name": "python",
      "nbconvert_exporter": "python",
      "pygments_lexer": "ipython3",
      "version": "3.7.13"
    },
    "colab": {
      "provenance": []
    }
  },
  "nbformat": 4,
  "nbformat_minor": 5
}