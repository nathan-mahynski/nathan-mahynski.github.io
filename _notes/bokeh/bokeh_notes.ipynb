{
  "nbformat": 4,
  "nbformat_minor": 0,
  "metadata": {
    "colab": {
      "provenance": [],
      "authorship_tag": "ABX9TyMUnA2pOPu07cRpA9IFUf5/",
      "include_colab_link": true
    },
    "kernelspec": {
      "name": "python3",
      "display_name": "Python 3"
    },
    "language_info": {
      "name": "python"
    }
  },
  "cells": [
    {
      "cell_type": "markdown",
      "metadata": {
        "id": "view-in-github",
        "colab_type": "text"
      },
      "source": [
        "<a href=\"https://colab.research.google.com/github/nathan-mahynski/nathan-mahynski.github.io/blob/public/_notes/bokeh/bokeh_notes.ipynb\" target=\"_parent\"><img src=\"https://colab.research.google.com/assets/colab-badge.svg\" alt=\"Open In Colab\"/></a>"
      ]
    },
    {
      "cell_type": "code",
      "source": [
        "# !pip install watermark\n",
        "# !pip install bokeh==3.0.3"
      ],
      "metadata": {
        "id": "PMyrxrGhPnZ7"
      },
      "execution_count": null,
      "outputs": []
    },
    {
      "cell_type": "code",
      "source": [
        "import bokeh\n",
        "import scipy\n",
        "import watermark\n",
        "\n",
        "import numpy as np\n",
        "import pandas as pd\n",
        "\n",
        "from bokeh.plotting import figure, show\n",
        "from bokeh.io import output_notebook\n",
        "\n",
        "from bokeh.layouts import column, layout\n",
        "from bokeh.models import (ColumnDataSource, DataTable, HoverTool, CrosshairTool, FileInput, CheckboxGroup, Paragraph,\n",
        "                          SelectEditor, CustomJS, Segment, VBar, Rect, Button, TextInput, RadioButtonGroup, Span, \n",
        "                          StringFormatter, TableColumn, RangeSlider, Slider, Select, CDSView, IndexFilter)"
      ],
      "metadata": {
        "id": "Omi-HRFHPjkN"
      },
      "execution_count": null,
      "outputs": []
    },
    {
      "cell_type": "code",
      "source": [
        "output_notebook()"
      ],
      "metadata": {
        "id": "PBU6ijicVDoP"
      },
      "execution_count": null,
      "outputs": []
    },
    {
      "cell_type": "code",
      "source": [
        "%load_ext autoreload\n",
        "%autoreload 2\n",
        "\n",
        "%load_ext watermark\n",
        "%watermark -t -m -h -v --iversions"
      ],
      "metadata": {
        "id": "UxY_CVtiPwZ2"
      },
      "execution_count": null,
      "outputs": []
    },
    {
      "cell_type": "markdown",
      "source": [
        "---\n",
        "\n",
        "The [Bokeh gallery](https://docs.bokeh.org/en/latest/docs/gallery.html) has a lot of great examples to get started quickly - refer to this as a good reference.\n",
        "\n",
        "Below is an example that walks through some more complex functions I have found useful."
      ],
      "metadata": {
        "id": "u1Sa02KWpQoJ"
      }
    },
    {
      "cell_type": "markdown",
      "source": [
        "# Create Example Data"
      ],
      "metadata": {
        "id": "Rzu7yRB-Tnad"
      }
    },
    {
      "cell_type": "code",
      "source": [
        "# This is meant to emulate GCMS data where peaks have been assigned to compounds by an algorithm, but the user may need to manually reassign them.\n",
        "import hashlib\n",
        "\n",
        "np.random.seed(42)\n",
        "retention_times = [np.random.normal(loc=10, scale=1.0) for i in range(5)] + \\\n",
        "  [np.random.normal(loc=12, scale=1.0) for i in range(10)] + \\\n",
        "  [np.random.normal(loc=14, scale=1.0) for i in range(15)]\n",
        "\n",
        "quality = [np.random.random()*100 for i in range(30)]\n",
        "hit_name = ['A']*5 + ['B']*10 + ['C']*15\n",
        "suggested_name = hit_name\n",
        "new_name = hit_name\n",
        "\n",
        "df = pd.DataFrame()\n",
        "df['Retention_Time'] = retention_times\n",
        "df['Quality'] = quality \n",
        "df['Hit_Name'] = hit_name \n",
        "df['Suggested_Name'] = suggested_name \n",
        "df['Assigned_Name'] = new_name \n",
        "df['Hash'] = [hashlib.sha1(str(x).encode()).hexdigest() for x in np.random.random(30)]"
      ],
      "metadata": {
        "id": "4dySBkXURyMM"
      },
      "execution_count": null,
      "outputs": []
    },
    {
      "cell_type": "markdown",
      "source": [
        "# Create a Data Table"
      ],
      "metadata": {
        "id": "t76DcALNVkht"
      }
    },
    {
      "cell_type": "code",
      "source": [
        "# 1. Create a source for the table\n",
        "total_source = ColumnDataSource(df)\n",
        "\n",
        "# 2. Let's also create a view to only show certain parts of the data\n",
        "view = CDSView(filter=IndexFilter(np.arange(len(df)).tolist()))\n",
        "\n",
        "# 3. We are going to make it editable, but we only want to allow users to change names to be those we already know about\n",
        "compound_names = sorted(df[\"Hit_Name\"].unique())\n",
        "\n",
        "columns = [\n",
        "        TableColumn(field=\"Retention_Time\", title=\"Retention Time\",\n",
        "                    ),\n",
        "        TableColumn(field=\"Quality\", title=\"Quality\",\n",
        "                    ),\n",
        "        TableColumn(field=\"Hit_Name\", title=\"Original Name\", \n",
        "                    formatter=StringFormatter(font_style=\"bold\")),\n",
        "        TableColumn(field=\"Suggested_Name\", title=\"Suggested Name\", \n",
        "                    formatter=StringFormatter(font_style=\"bold\")),\n",
        "        TableColumn(field=\"Assigned_Name\", title=\"Assigned Name\", \n",
        "                    editor=SelectEditor(options=compound_names), # Can be modified based on user choice\n",
        "                    formatter=StringFormatter(font_style=\"bold\")),\n",
        "          TableColumn(field=\"Hash\", title=\"Hash\", \n",
        "                    ),\n",
        "    ]\n",
        "\n",
        "data_table = DataTable(\n",
        "    source=total_source,\n",
        "    width=1000,\n",
        "    view=view,\n",
        "    columns=columns, \n",
        "    editable=True, \n",
        "    index_position=-1, \n",
        "    index_header=\"Index\", \n",
        "    index_width=60)"
      ],
      "metadata": {
        "id": "K2G7E96jRwbs"
      },
      "execution_count": null,
      "outputs": []
    },
    {
      "cell_type": "code",
      "source": [
        "# Note how \"Assigned Name\" can be modified via a dropdown!\n",
        "show(data_table, sizing_mode='scale_width')"
      ],
      "metadata": {
        "id": "0t84Hp9jUoJz"
      },
      "execution_count": null,
      "outputs": []
    },
    {
      "cell_type": "markdown",
      "source": [
        "See [Bokeh.models](https://docs.bokeh.org/en/latest/docs/reference/models.html) for other types of editors besides dropdown menus."
      ],
      "metadata": {
        "id": "qH0sPtJjCGcj"
      }
    },
    {
      "cell_type": "markdown",
      "source": [
        "# Plot Results in the DataTable"
      ],
      "metadata": {
        "id": "CqFn2PqaRpcL"
      }
    },
    {
      "cell_type": "code",
      "source": [
        "# Order the x-axis\n",
        "ordered_cats = df.groupby('Hit_Name')['Retention_Time'].median().sort_values().index.tolist()\n",
        "\n",
        "p = figure(\n",
        "    background_fill_color=\"#efefef\", \n",
        "    x_range=ordered_cats, \n",
        "    title=\"Retention Time Ranges\",\n",
        "    tools=\"pan,wheel_zoom,ybox_select,xbox_select,lasso_select,reset\", \n",
        "    active_drag=\"pan\",\n",
        "    x_axis_label=\"\",\n",
        "    y_axis_label=\"Retention Time\",\n",
        ")\n",
        "p.xaxis.major_label_orientation = \"vertical\""
      ],
      "metadata": {
        "id": "L5UNizPVRs5K"
      },
      "execution_count": null,
      "outputs": []
    },
    {
      "cell_type": "code",
      "source": [
        "# Datapoints\n",
        "points = p.circle(\n",
        "  x=\"Assigned_Name\", \n",
        "  y=\"Retention_Time\", \n",
        "  color=\"#F38630\", \n",
        "  size=4, alpha=0.5, \n",
        "  source=total_source, \n",
        "  view=view\n",
        ")\n",
        "    \n",
        "tooltips = [\n",
        "        (\"Original Name\", \"@Hit_Name\"),\n",
        "        (\"Quality\", \"@Quality\"),\n",
        "        (\"Hash\", \"@Hash\")\n",
        "    ]\n",
        "\n",
        "hover_tool = HoverTool(renderers=[points], tooltips=tooltips)\n",
        "p.add_tools(hover_tool)\n",
        "\n",
        "crosshair_tool = CrosshairTool()\n",
        "p.add_tools(crosshair_tool)"
      ],
      "metadata": {
        "id": "DvLHaXVnRs96"
      },
      "execution_count": null,
      "outputs": []
    },
    {
      "cell_type": "code",
      "source": [
        "show(p)"
      ],
      "metadata": {
        "id": "TnXLIw7eRtA2"
      },
      "execution_count": null,
      "outputs": []
    },
    {
      "cell_type": "markdown",
      "source": [
        "# Add Some Interactions"
      ],
      "metadata": {
        "id": "DQrYwVV6csCa"
      }
    },
    {
      "cell_type": "markdown",
      "source": [
        "Let's create 2 sliders which will filter the displayed data based on certain criteria"
      ],
      "metadata": {
        "id": "9fEGZjfECYLx"
      }
    },
    {
      "cell_type": "code",
      "source": [
        "# Min observation slider (filter)\n",
        "min_obs_slider = Slider(start=0, \n",
        "                        end=df.groupby('Hit_Name').count().max()['Quality'],\n",
        "                        value=0, \n",
        "                        step=1, \n",
        "                        title=\"Minimum Observations within Quality Range\")\n",
        "\n",
        "# Minimum Quality slider (filter)\n",
        "quality_slider = RangeSlider(start=0, end=100, step=1, value=(1, 99), title=\"Quality Range\")"
      ],
      "metadata": {
        "id": "NQH9igSfcvhH"
      },
      "execution_count": null,
      "outputs": []
    },
    {
      "cell_type": "code",
      "source": [
        "# JavaScript to compute the updated filter.\n",
        "update_view_code = \"\"\"\n",
        "        var qvals = quality_slider.value;\n",
        "        var t = total_source.data;\n",
        "        \n",
        "        var counts = {};\n",
        "        for (var i = 0; i < t.index.length; i++) {  \n",
        "            counts[t.Assigned_Name[i]] = 0;\n",
        "        }\n",
        "        for (var i = 0; i < t.index.length; i++) {  \n",
        "            counts[t.Assigned_Name[i]] += 1;\n",
        "        }\n",
        "\n",
        "        // Update the visible data\n",
        "        view.filter.indices = [];\n",
        "        for (var i = 0; i < t.index.length; i++) { \n",
        "            if ((qvals[0] <= t.Quality[i]) && (t.Quality[i] <= qvals[1]) && (counts[t.Assigned_Name[i]] > min_obs_slider.value)) {\n",
        "                view.filter.indices.push(i);\n",
        "            }   \n",
        "        }\n",
        "\n",
        "        total_source.change.emit(); // Trigger the source this code is tied to - modifying view alone will not do this.\n",
        "    \"\"\""
      ],
      "metadata": {
        "id": "ycRF7Om9cvsu"
      },
      "execution_count": null,
      "outputs": []
    },
    {
      "cell_type": "code",
      "source": [
        "update = CustomJS(args=dict(\n",
        "        total_source = total_source, \n",
        "        view = view, \n",
        "        min_obs_slider = min_obs_slider, \n",
        "        quality_slider = quality_slider,\n",
        "        ), \n",
        "        code=update_view_code\n",
        "        )\n",
        "\n",
        "# Recompute should be triggered by filters (quality and min_obs) to update view\n",
        "quality_slider.js_on_change('value', update)\n",
        "min_obs_slider.js_on_change('value', update)"
      ],
      "metadata": {
        "id": "oa5VqZdtc8Wh"
      },
      "execution_count": null,
      "outputs": []
    },
    {
      "cell_type": "code",
      "source": [
        "show(column(quality_slider, min_obs_slider, p), sizing_mode='scale_width')"
      ],
      "metadata": {
        "id": "kINUWaGbedTD"
      },
      "execution_count": null,
      "outputs": []
    },
    {
      "cell_type": "markdown",
      "source": [
        "# Combining a Table and a Plot"
      ],
      "metadata": {
        "id": "zqunyoL-iR58"
      }
    },
    {
      "cell_type": "markdown",
      "source": [
        "All glyphs linked to a given source update when the source is modified.  This happens if you change a value, or if you force a \"trigger\" event.  Usually, the latter occurs in a callback function, as with the sliders above.  The former can sometimes be done directly, as illustrated next.\n",
        "\n",
        "Let's combine the plot and table - the `Assigned Names` (x-axis) in the table can be edited. Changes to the table modify total_source, which the points are linked to, so they will change as you modify the table."
      ],
      "metadata": {
        "id": "JM3uqlSbCeJh"
      }
    },
    {
      "cell_type": "code",
      "source": [
        "# Try changing the \"Assigned Name\" values - you will see that points get reassigned to different columns!\n",
        "\n",
        "show(column(data_table, p), sizing_mode='scale_width')"
      ],
      "metadata": {
        "id": "DeXa_ZUjimly"
      },
      "execution_count": null,
      "outputs": []
    },
    {
      "cell_type": "markdown",
      "source": [
        "# More Complex Combinations"
      ],
      "metadata": {
        "id": "v0rQSUkYlwhS"
      }
    },
    {
      "cell_type": "markdown",
      "source": [
        "Table edits directly modify total_source and sliders trigger a change signal, both of which update the plot and table. But what if we are plotting data that is INDIRECTLY a function of total_source; for example, a set of summary statistics? We can put those calculations inside the `update_view_code`, but that is only called when the sliders change values; table edits will change which points are plotted, but won't call the `update_view_code` function. We also need to trigger that recomputation when any part of the table is changed - This can be accomplished with this command.\n",
        "\n",
        "~~~python\n",
        "total_source.js_on_change('patching', update_view_code)\n",
        "~~~\n",
        "\n",
        "This way, when table edits change the `total_source` the `update_view_code` is also called. Let's do an example."
      ],
      "metadata": {
        "id": "DmPZ-A_A7D0b"
      }
    },
    {
      "cell_type": "code",
      "source": [
        "# Compute IQR for the visible (filtered) data\n",
        "\n",
        "def get_quantiles_df(name_groups):\n",
        "    \"\"\"Python function to initialize IQR datatable.\"\"\"\n",
        "    q1 = name_groups['Retention_Time'].quantile(q=0.25)\n",
        "    q2 = name_groups['Retention_Time'].quantile(q=0.5)\n",
        "    q3 = name_groups['Retention_Time'].quantile(q=0.75)\n",
        "\n",
        "    iqr = q3 - q1\n",
        "    upper = q3 + 1.5*iqr # Do not bound by max/min, just report ranges\n",
        "    lower = q1 - 1.5*iqr # Do not bound by max/min, just report ranges\n",
        "    \n",
        "    df = pd.concat([\n",
        "        pd.DataFrame(q1).rename(columns={'Retention_Time':'q1'}),\n",
        "        pd.DataFrame(q2).rename(columns={'Retention_Time':'q2'}),\n",
        "        pd.DataFrame(q3).rename(columns={'Retention_Time':'q3'}),\n",
        "        pd.DataFrame(upper).rename(columns={'Retention_Time':'upper'}),\n",
        "        pd.DataFrame(lower).rename(columns={'Retention_Time':'lower'}),\n",
        "    ], axis=1)\n",
        "    \n",
        "    df['Assigned_Name'] = df.index.copy()\n",
        "    \n",
        "    return df\n",
        "    \n",
        "df_iqr = get_quantiles_df(df.groupby('Hit_Name'))\n",
        "iqr_source = ColumnDataSource(df_iqr)"
      ],
      "metadata": {
        "id": "g578PfkN6kBm"
      },
      "execution_count": null,
      "outputs": []
    },
    {
      "cell_type": "code",
      "source": [
        "calc_iqr_code = \"\"\"\n",
        "  // Create dictionary of lists, organized by name\n",
        "  var iqr_data = {};\n",
        "  for (var i = 0; i < view.filter.indices.length; i++) { \n",
        "    iqr_data[t.Assigned_Name[view.filter.indices[i]]] = [];\n",
        "  }\n",
        "  for (var i = 0; i < view.filter.indices.length; i++) {\n",
        "    let idx = view.filter.indices[i];\n",
        "    iqr_data[t.Assigned_Name[idx]].push(t.Retention_Time[idx]);\n",
        "  }\n",
        "\n",
        "  // From: https://www.geeksforgeeks.org/interquartile-range-iqr/\n",
        "  function QUANTILE(data, q)\n",
        "  {\n",
        "    // R-7 method: https://en.wikipedia.org/wiki/Quantile#Estimating_quantiles_from_a_sample\n",
        "    let values = data.slice().sort((a, b) => a - b); // copy and sort\n",
        "    let h = (data.length - 1)*q;\n",
        "\n",
        "    if (h % 1 === 0) {\n",
        "      return values[h]\n",
        "    } else {\n",
        "      let base = Math.floor(h);\n",
        "      return values[base] + (h - base)*(values[Math.ceil(h)] - values[base]);\n",
        "    }\n",
        "  }\n",
        "  \n",
        "  var iqr_ = iqr_source.data;\n",
        "  iqr_.Assigned_Name = []\n",
        "  iqr_.q1 = []\n",
        "  iqr_.q2 = []\n",
        "  iqr_.q3 = []\n",
        "  iqr_.upper = []\n",
        "  iqr_.lower = []\n",
        "\n",
        "  var iqr_values = [0, 0, 0];\n",
        "  for (const [Assigned_Name, values] of Object.entries(iqr_data)) {\n",
        "    iqr_values = [QUANTILE(values, 0.25), QUANTILE(values, 0.5), QUANTILE(values, 0.75)];\n",
        "    iqr_.Assigned_Name.push(Assigned_Name);\n",
        "    iqr_.q1.push(iqr_values[0]);\n",
        "    iqr_.q2.push(iqr_values[1]);\n",
        "    iqr_.q3.push(iqr_values[2]);\n",
        "    iqr_.lower.push(iqr_values[0] - 1.5*(iqr_values[2] - iqr_values[0]));\n",
        "    iqr_.upper.push(iqr_values[2] + 1.5*(iqr_values[2] - iqr_values[0]));\n",
        "  }\n",
        "\n",
        "  iqr_source.change.emit();\n",
        "\"\"\""
      ],
      "metadata": {
        "id": "Gt6rQLlAiplf"
      },
      "execution_count": null,
      "outputs": []
    },
    {
      "cell_type": "code",
      "source": [
        "min_obs_slider = Slider(start=0, \n",
        "                        end=df.groupby('Hit_Name').count().max()['Quality'],\n",
        "                        value=0, \n",
        "                        step=1, \n",
        "                        title=\"Minimum Observations within Quality Range\")\n",
        "\n",
        "quality_slider = RangeSlider(start=0, end=100, step=1, value=(1, 99), title=\"Quality Range\")\n",
        "\n",
        "update = CustomJS(args=dict(\n",
        "        total_source = total_source, \n",
        "        iqr_source = iqr_source, \n",
        "        view = view, \n",
        "        min_obs_slider = min_obs_slider, \n",
        "        quality_slider = quality_slider,\n",
        "        ), \n",
        "        code=update_view_code + calc_iqr_code # Sliders will now also trigger the re-calculation of IQR\n",
        "        )\n",
        "\n",
        "quality_slider.js_on_change('value', update)\n",
        "min_obs_slider.js_on_change('value', update)\n",
        "total_source.js_on_change('patching', update) # When the data table is changed, the re-calculation is also triggered"
      ],
      "metadata": {
        "id": "hEiKkBprog1J"
      },
      "execution_count": null,
      "outputs": []
    },
    {
      "cell_type": "code",
      "source": [
        "p = figure(\n",
        "    background_fill_color=\"#efefef\", \n",
        "    x_range=ordered_cats, \n",
        "    title=\"Retention Time Ranges\",\n",
        "    tools=\"pan,wheel_zoom,ybox_select,xbox_select,lasso_select,reset\", \n",
        "    active_drag=\"pan\",\n",
        "    x_axis_label=\"\",\n",
        "    y_axis_label=\"Retention Time\",\n",
        ")\n",
        "p.xaxis.major_label_orientation = \"vertical\"\n",
        "\n",
        "from bokeh.transform import jitter\n",
        "points = p.circle(\n",
        "      x=jitter(\"Assigned_Name\", 0.3, range=p.x_range),\n",
        "      y=\"Retention_Time\", \n",
        "      color=\"#F38630\", \n",
        "      size=4, alpha=0.5, \n",
        "      source=total_source, \n",
        "      view=view\n",
        ")\n",
        "    \n",
        "tooltips = [\n",
        "        (\"Original Name\", \"@Hit_Name\"),\n",
        "        (\"Quality\", \"@Quality\"),\n",
        "    ]\n",
        "\n",
        "hover_tool = HoverTool(renderers=[points], tooltips=tooltips)\n",
        "p.add_tools(hover_tool)\n",
        "\n",
        "crosshair_tool = CrosshairTool()\n",
        "p.add_tools(crosshair_tool)"
      ],
      "metadata": {
        "id": "rS1236mN_r7o"
      },
      "execution_count": null,
      "outputs": []
    },
    {
      "cell_type": "code",
      "source": [
        "from bokeh.models import Whisker\n",
        "\n",
        "# Plot the IQR with whiskers\n",
        "error = Whisker(base=\"Assigned_Name\", upper=\"upper\", lower=\"lower\", source=iqr_source,\n",
        "                level=\"annotation\", line_width=2)\n",
        "error.upper_head.size=20\n",
        "error.lower_head.size=20\n",
        "p.add_layout(error)"
      ],
      "metadata": {
        "id": "wKhv0bAIog5A"
      },
      "execution_count": null,
      "outputs": []
    },
    {
      "cell_type": "code",
      "source": [
        "# Put it all together\n",
        "show(column(data_table, quality_slider, min_obs_slider, p), sizing_mode='scale_width')"
      ],
      "metadata": {
        "id": "xsGYHq7m6UnO"
      },
      "execution_count": null,
      "outputs": []
    },
    {
      "cell_type": "markdown",
      "source": [
        "# I/O with JavaScript"
      ],
      "metadata": {
        "id": "cpkxhtvWohAt"
      }
    },
    {
      "cell_type": "markdown",
      "source": [
        "Another common task when building Bokeh applications is I/O.  This has to be accomplished with `CustomJS` but there are nice input/upload widgets that this code can be linked to.  Here is code illustrating the dumping/saving of the data table to a file, and the loading of a old file to update current values."
      ],
      "metadata": {
        "id": "_hQGN6EJE4m8"
      }
    },
    {
      "cell_type": "markdown",
      "source": [
        "## Exporting Data"
      ],
      "metadata": {
        "id": "1KMNOt8tGeYW"
      }
    },
    {
      "cell_type": "code",
      "source": [
        "# Enter a filename to save to.\n",
        "filename_export = TextInput(value=\"exported.txt\", title=\"\")\n",
        "\n",
        "# This widget provides some logic to export the entire visible table, or just selected points.\n",
        "radio = RadioButtonGroup(labels=['Selected Points Only', 'Entire Table'], active=0)\n",
        "\n",
        "# Buttom to execute the export command.\n",
        "export_button = Button(label='Export to Tab Delimited File', button_type='success') \n",
        "export_button.js_on_click(\n",
        "    CustomJS( # https://github.com/surfaceowl-ai/python_visualizations/blob/main/notebooks/bokeh_save_export_data.py\n",
        "        args=dict(total_source=total_source, filename_input=filename_export, radio=radio, min_obs_slider=min_obs_slider, quality_slider=quality_slider),\n",
        "        code=\"\"\"\n",
        "            var inds;\n",
        "            if (radio.active == 0) { // Only selected points is the first label option\n",
        "                inds = total_source.selected.indices;\n",
        "            } else { // All points in the table is the second label (only other option)\n",
        "                inds = [];\n",
        "                for (let i=0; i < total_source.get_length(); ++i) {\n",
        "                    inds.push(i);\n",
        "                }\n",
        "            }\n",
        "\n",
        "            // Create a tab-delimited string to write out\n",
        "            function table_to_txt(source) {\n",
        "                const columns = ['Retention_Time', 'Quality', 'Hit_Name', 'Suggested_Name', 'Assigned_Name', 'Hash'];\n",
        "                const nrows = source.get_length();\n",
        "                var lines = 'Minimum Observations within Quality Range\\t' + min_obs_slider.value.toString() + '\\tQuality Range\\t' + quality_slider.value[0].toString() + '\\t' + quality_slider.value[1].toString();\n",
        "                lines += ['\\\\nRetention Time\\tQuality\\tHit Name\\tSuggested Name\\tAssigned Name\\tHash'];\n",
        "\n",
        "                for (let i = 0; i < inds.length; i++) {\n",
        "                    lines += '\\\\n';\n",
        "                    for (let j = 0; j < columns.length; j++) {\n",
        "                        lines += source.data[columns[j]][inds[i]].toString();\n",
        "                        if (j < columns.length-1) {\n",
        "                            lines += '\\\\t';\n",
        "                        }\n",
        "                    }\n",
        "                }\n",
        "                return lines;\n",
        "            }\n",
        "\n",
        "            var file = new Blob([table_to_txt(total_source)], {type: 'text/plain'});\n",
        "            var elem = window.document.createElement('a');\n",
        "            elem.href = window.URL.createObjectURL(file);\n",
        "            elem.download = filename_input.value;\n",
        "            document.body.appendChild(elem);\n",
        "            elem.click();\n",
        "            document.body.removeChild(elem);\n",
        "            \"\"\",\n",
        "        )\n",
        "    )"
      ],
      "metadata": {
        "id": "WKmNjkk5FYTr"
      },
      "execution_count": null,
      "outputs": []
    },
    {
      "cell_type": "markdown",
      "source": [
        "## Importing Data"
      ],
      "metadata": {
        "id": "3VfIgXKBGg3d"
      }
    },
    {
      "cell_type": "code",
      "source": [
        "# You can restrict the file suffix in the pop-up window.\n",
        "filename_import = FileInput(accept=\".txt,\")\n",
        "\n",
        "# The FileInput widget loads the file behind the scenes immediately, and saves the result in base64.\n",
        "# You need to convert that using a Custom JS callback.\n",
        "import_button = Button(label=\"Import\", button_type='danger')\n",
        "import_button.js_on_click(CustomJS( \n",
        "        args=dict(source=total_source, filename_import=filename_import, quality_slider=quality_slider, min_obs_slider=min_obs_slider),\n",
        "        code=\"\"\"\n",
        "            var data = atob(filename_import.value); // Convert from base64\n",
        "            var lines = data.split('\\\\n');        \n",
        "\n",
        "            // These edits will trigger new visible data\n",
        "            min_obs_slider.value = parseInt(lines[0].split('\\\\t')[1]);\n",
        "            quality_slider.value = [parseInt(lines[0].split('\\\\t')[3]), parseInt(lines[0].split('\\\\t')[4])];\n",
        "\n",
        "            for (let i = 1; i < lines.length; ++i) {\n",
        "                let row = lines[i].split('\\\\t');\n",
        "                let hash = row[row.length - 1];\n",
        "                let index = -1;\n",
        "\n",
        "                // Try to find entry in total source and update it (based on hash)\n",
        "                for (let j = 0; j < source.get_length(); ++j) {\n",
        "                    if (hash === source.data.hash[j]) {\n",
        "                        index = j;\n",
        "                        break;\n",
        "                    }\n",
        "                }\n",
        "                if (index >= 0) {\n",
        "                    source.data.Retention_Time[index] = parseFloat(row[0]);\n",
        "                    source.data.Quality[index] = parseInt(row[1]);\n",
        "                    source.data.Hit_Name[index] = row[2];\n",
        "                    source.data.Suggested_Name[index] = row[3];\n",
        "                    source.data.Assigned_Name[index] = row[4];\n",
        "                }\n",
        "            }\n",
        "\n",
        "            // (*) Trigger anything the source is directly linked to\n",
        "            source.change.emit();\n",
        "\n",
        "            \"\"\",\n",
        "        )\n",
        "    )\n",
        "\n",
        "# Also trigger a re-compute after loading the data.  This means we don't really\n",
        "# need the (*) line above, but if we weren't using this update code then we should\n",
        "# include the (*) line.\n",
        "import_button.js_on_click(update) "
      ],
      "metadata": {
        "id": "nYrjvzs6GiYC"
      },
      "execution_count": null,
      "outputs": []
    },
    {
      "cell_type": "markdown",
      "source": [
        "## Put it all together"
      ],
      "metadata": {
        "id": "H-2XJZC_KCtz"
      }
    },
    {
      "cell_type": "code",
      "source": [
        "# Experiment by importing and exporting!\n",
        "show(\n",
        "    layout([\n",
        "        [filename_import, import_button],\n",
        "        [data_table], \n",
        "        [min_obs_slider, quality_slider],\n",
        "        [p],\n",
        "        [filename_export, radio, export_button]\n",
        "        ], \n",
        "        sizing_mode='scale_width'\n",
        "        )\n",
        ")"
      ],
      "metadata": {
        "id": "3Re8Ssb6KFmG"
      },
      "execution_count": null,
      "outputs": []
    },
    {
      "cell_type": "code",
      "source": [],
      "metadata": {
        "id": "M13Ks4fnKYvb"
      },
      "execution_count": null,
      "outputs": []
    }
  ]
}