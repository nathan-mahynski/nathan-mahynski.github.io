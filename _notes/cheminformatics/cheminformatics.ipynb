{
  "nbformat": 4,
  "nbformat_minor": 0,
  "metadata": {
    "colab": {
      "private_outputs": true,
      "provenance": []
    },
    "kernelspec": {
      "name": "python3",
      "display_name": "Python 3"
    },
    "language_info": {
      "name": "python"
    }
  },
  "cells": [
    {
      "cell_type": "markdown",
      "source": [
        "[RDKit](https://www.rdkit.org/ )\n",
        "---\n",
        "\n",
        "This is a popular package for cheminformatics calculations and manipulations. The [documentation](https://rdkit.org/docs/index.html) contains many examples, recipes, and links to other resources. A full history is given [here](https://rdkit.org/docs/Overview.html#open-source-toolkit-for-cheminformatics).\n",
        "\n",
        "The [RDKit book](https://rdkit.org/docs/RDKit_Book.html) explains conventions, approaches, and features.\n",
        "\n",
        "These notes will focus on using rdkit in python and focus on only portions of the toolkit.  The [cookbook](https://rdkit.org/docs/Cookbook.html) has a lot of recipes, many of which are used below."
      ],
      "metadata": {
        "id": "vDysQgecG1pA"
      }
    },
    {
      "cell_type": "markdown",
      "source": [
        "# Visualization"
      ],
      "metadata": {
        "id": "AJyATNc9kLWK"
      }
    },
    {
      "cell_type": "markdown",
      "source": [
        "## Drawing a molecule"
      ],
      "metadata": {
        "id": "Pd8FhaSskQ5_"
      }
    },
    {
      "cell_type": "code",
      "source": [],
      "metadata": {
        "id": "O9R4B-9gkVfZ"
      },
      "execution_count": null,
      "outputs": []
    },
    {
      "cell_type": "markdown",
      "source": [
        "# Manipulating molecules"
      ],
      "metadata": {
        "id": "1a7coWY6kVpp"
      }
    },
    {
      "cell_type": "markdown",
      "source": [
        "DeepChem\n",
        "---\n",
        "\n",
        "https://deepchem.readthedocs.io/en/latest/index.html#"
      ],
      "metadata": {
        "id": "jpVGH5D2G3_7"
      }
    },
    {
      "cell_type": "code",
      "source": [],
      "metadata": {
        "id": "mDI5-u-WG5wC"
      },
      "execution_count": null,
      "outputs": []
    }
  ]
}