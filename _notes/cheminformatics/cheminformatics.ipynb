{
  "nbformat": 4,
  "nbformat_minor": 0,
  "metadata": {
    "colab": {
      "private_outputs": true,
      "provenance": []
    },
    "kernelspec": {
      "name": "python3",
      "display_name": "Python 3"
    },
    "language_info": {
      "name": "python"
    }
  },
  "cells": [
    {
      "cell_type": "markdown",
      "source": [
        "A primer on using [RDKit](https://www.rdkit.org/ )\n",
        "---\n",
        "\n",
        "This is a popular package for cheminformatics calculations and manipulations. The [documentation](https://rdkit.org/docs/index.html) contains many examples, recipes, and links to other resources. A full history is given [here](https://rdkit.org/docs/Overview.html#open-source-toolkit-for-cheminformatics). Due to its popularity, many other open source tools used RDKit and related/compatible data structures.\n",
        "\n",
        "The [RDKit book](https://rdkit.org/docs/RDKit_Book.html) explains conventions, approaches, and features.\n",
        "\n",
        "These notes will focus on using rdkit in python and focus on only portions of the toolkit. The [cookbook](https://rdkit.org/docs/Cookbook.html) has a lot of recipes, many of which are used below. RDKit provides attribution for these original examples, which may be modified below."
      ],
      "metadata": {
        "id": "vDysQgecG1pA"
      }
    },
    {
      "cell_type": "code",
      "source": [
        "!pip install rdkit"
      ],
      "metadata": {
        "id": "MMiu7rIqk4vw"
      },
      "execution_count": null,
      "outputs": []
    },
    {
      "cell_type": "code",
      "source": [
        "import rdkit \n",
        "rdkit.__version__"
      ],
      "metadata": {
        "id": "2mmD9aKlocL-"
      },
      "execution_count": null,
      "outputs": []
    },
    {
      "cell_type": "markdown",
      "source": [
        "# The Basics"
      ],
      "metadata": {
        "id": "IwEi8esLrbYt"
      }
    },
    {
      "cell_type": "markdown",
      "source": [
        "There are 2 basic languages used to describe molecules: [SMILES](https://www.daylight.com/dayhtml/doc/theory/theory.smiles.html) and [SMARTS](https://www.daylight.com/dayhtml/doc/theory/theory.smarts.html)\n"
      ],
      "metadata": {
        "id": "iZ8yCPqbrcy7"
      }
    },
    {
      "cell_type": "markdown",
      "source": [
        "# Visualization\n",
        "Let's look at some existing molecules and how to manipulate them."
      ],
      "metadata": {
        "id": "AJyATNc9kLWK"
      }
    },
    {
      "cell_type": "markdown",
      "source": [
        "## Drawing a molecule"
      ],
      "metadata": {
        "id": "Pd8FhaSskQ5_"
      }
    },
    {
      "cell_type": "markdown",
      "source": [
        "### Option 1: Map index to atom location directly"
      ],
      "metadata": {
        "id": "ktgEj3h9lQ5O"
      }
    },
    {
      "cell_type": "code",
      "source": [
        "from rdkit import Chem\n",
        "from rdkit.Chem.Draw import IPythonConsole\n",
        "from rdkit.Chem import Draw\n",
        "IPythonConsole.ipython_useSVG=True  #< set this to False if you want PNGs instead of SVGs"
      ],
      "metadata": {
        "id": "O9R4B-9gkVfZ"
      },
      "execution_count": null,
      "outputs": []
    },
    {
      "cell_type": "code",
      "source": [
        "def mol_with_atom_index(mol):\n",
        "    for atom in mol.GetAtoms():\n",
        "        atom.SetAtomMapNum(atom.GetIdx())\n",
        "    return mol"
      ],
      "metadata": {
        "id": "mkrW3n2KkwfZ"
      },
      "execution_count": null,
      "outputs": []
    },
    {
      "cell_type": "code",
      "source": [
        "# Test in a kinase inhibitor\n",
        "mol = Chem.MolFromSmiles(\"C1CC2=C3C(=CC=C2)C(=CN3C1)[C@H]4[C@@H](C(=O)NC4=O)C5=CNC6=CC=CC=C65\")\n",
        "# Default\n",
        "mol"
      ],
      "metadata": {
        "id": "vhQ5yEOrkwh8"
      },
      "execution_count": null,
      "outputs": []
    },
    {
      "cell_type": "code",
      "source": [
        "# With atom index\n",
        "mol_with_atom_index(mol)"
      ],
      "metadata": {
        "id": "6_WCwWZ-lF2R"
      },
      "execution_count": null,
      "outputs": []
    },
    {
      "cell_type": "markdown",
      "source": [
        "### Option 2: Using Jupyter display settings directly (better)"
      ],
      "metadata": {
        "id": "RDO3dkdmlXTj"
      }
    },
    {
      "cell_type": "code",
      "source": [
        "from rdkit import Chem\n",
        "from rdkit.Chem.Draw import IPythonConsole\n",
        "from rdkit.Chem import Draw\n",
        "IPythonConsole.drawOptions.addAtomIndices = True\n",
        "IPythonConsole.molSize = 300,300"
      ],
      "metadata": {
        "id": "e_ZCDJr6lF5A"
      },
      "execution_count": null,
      "outputs": []
    },
    {
      "cell_type": "code",
      "source": [
        "mol = Chem.MolFromSmiles(\"C1CC2=C3C(=CC=C2)C(=CN3C1)[C@H]4[C@@H](C(=O)NC4=O)C5=CNC6=CC=CC=C65\")\n",
        "mol"
      ],
      "metadata": {
        "id": "sJQDrQkclF7M"
      },
      "execution_count": null,
      "outputs": []
    },
    {
      "cell_type": "code",
      "source": [
        "IPythonConsole.drawOptions.addAtomIndices = False"
      ],
      "metadata": {
        "id": "tJMOC_MAm0I5"
      },
      "execution_count": null,
      "outputs": []
    },
    {
      "cell_type": "markdown",
      "source": [
        "## Display calculated features and annotations"
      ],
      "metadata": {
        "id": "hwaf3hOQllpy"
      }
    },
    {
      "cell_type": "code",
      "source": [
        "from rdkit import Chem\n",
        "from rdkit.Chem import AllChem\n",
        "from rdkit.Chem.Draw import IPythonConsole\n",
        "IPythonConsole.molSize = 250,250"
      ],
      "metadata": {
        "id": "ArYFxETClF9Z"
      },
      "execution_count": null,
      "outputs": []
    },
    {
      "cell_type": "code",
      "source": [
        "m = Chem.MolFromSmiles('c1ncncc1C(=O)[O-]')\n",
        "AllChem.ComputeGasteigerCharges(m)\n",
        "m"
      ],
      "metadata": {
        "id": "4TXaac3Ul9fq"
      },
      "execution_count": null,
      "outputs": []
    },
    {
      "cell_type": "code",
      "source": [
        "# The 'atomNote' property lets you add arbitrary annotations\n",
        "m2 = Chem.Mol(m)\n",
        "for at in m2.GetAtoms():\n",
        "    lbl = '%.2f'%(at.GetDoubleProp(\"_GasteigerCharge\"))\n",
        "    at.SetProp('atomNote',lbl)\n",
        "m2"
      ],
      "metadata": {
        "id": "QN8r2VRMl9ht"
      },
      "execution_count": null,
      "outputs": []
    },
    {
      "cell_type": "code",
      "source": [
        "# You can combine this with other annotations - by default they are separated by a comma\n",
        "IPythonConsole.drawOptions.addAtomIndices = True\n",
        "m2"
      ],
      "metadata": {
        "id": "w8WeDqHYmG5w"
      },
      "execution_count": null,
      "outputs": []
    },
    {
      "cell_type": "code",
      "source": [
        "IPythonConsole.drawOptions.addAtomIndices = False"
      ],
      "metadata": {
        "id": "QjVDzwpEmG8A"
      },
      "execution_count": null,
      "outputs": []
    },
    {
      "cell_type": "markdown",
      "source": [
        "## Stereochemistry"
      ],
      "metadata": {
        "id": "zC0FbU86nZ4C"
      }
    },
    {
      "cell_type": "code",
      "source": [
        "from rdkit import Chem\n",
        "from rdkit.Chem import Draw\n",
        "from rdkit.Chem.Draw import IPythonConsole\n",
        "IPythonConsole.drawOptions.addAtomIndices = False\n",
        "IPythonConsole.drawOptions.addStereoAnnotation = True"
      ],
      "metadata": {
        "id": "tUeEMc2bneYX"
      },
      "execution_count": null,
      "outputs": []
    },
    {
      "cell_type": "code",
      "source": [
        "# Default Representation uses legacy FindMolChiralCenters() code\n",
        "m1 = Chem.MolFromSmiles('C1CC1[C@H](F)C1CCC1')\n",
        "m2 = Chem.MolFromSmiles('F[C@H]1CC[C@H](O)CC1')\n",
        "Draw.MolsToGridImage((m1,m2), subImgSize=(250,250))"
      ],
      "metadata": {
        "id": "4cqVZeX-neay"
      },
      "execution_count": null,
      "outputs": []
    },
    {
      "cell_type": "code",
      "source": [
        "# new stereochemistry code with more accurate CIP labels, 2020.09 release\n",
        "from rdkit.Chem import rdCIPLabeler\n",
        "rdCIPLabeler.AssignCIPLabels(m1)\n",
        "rdCIPLabeler.AssignCIPLabels(m2)\n",
        "Draw.MolsToGridImage((m1,m2), subImgSize=(250,250))"
      ],
      "metadata": {
        "id": "PCct3y0Bnecw"
      },
      "execution_count": null,
      "outputs": []
    },
    {
      "cell_type": "markdown",
      "source": [
        "## Highlighting substructures"
      ],
      "metadata": {
        "id": "ppVJ2iCaoDwQ"
      }
    },
    {
      "cell_type": "code",
      "source": [
        "from rdkit import Chem\n",
        "from rdkit.Chem import Draw\n",
        "from rdkit.Chem.Draw import IPythonConsole\n",
        "IPythonConsole.drawOptions.addAtomIndices = True"
      ],
      "metadata": {
        "id": "BByNXBfmoGZL"
      },
      "execution_count": null,
      "outputs": []
    },
    {
      "cell_type": "code",
      "source": [
        "m = Chem.MolFromSmiles('c1cc(C(=O)O)c(OC(=O)C)cc1')\n",
        "substructure = Chem.MolFromSmarts('C(=O)O')"
      ],
      "metadata": {
        "id": "wFM34irsoGdm"
      },
      "execution_count": null,
      "outputs": []
    },
    {
      "cell_type": "code",
      "source": [
        "Draw.MolsToGridImage((m, substructure))"
      ],
      "metadata": {
        "id": "np5EXnKgpeMk"
      },
      "execution_count": null,
      "outputs": []
    },
    {
      "cell_type": "code",
      "source": [
        "print(m.GetSubstructMatches(substructure))\n",
        "?m.GetSubstructMatches\n",
        "# Returns tuples of the indices of the molecule's atoms that match a substructure query."
      ],
      "metadata": {
        "id": "otv_OmNroGf5"
      },
      "execution_count": null,
      "outputs": []
    },
    {
      "cell_type": "code",
      "source": [
        "m"
      ],
      "metadata": {
        "id": "e9_I0sAMoGie"
      },
      "execution_count": null,
      "outputs": []
    },
    {
      "cell_type": "code",
      "source": [
        "# you can also manually set the atoms that should be highlighted:\n",
        "m.__sssAtoms = [0,1,2,6,11,12]\n",
        "m"
      ],
      "metadata": {
        "id": "uZ_Yfa7cpWoB"
      },
      "execution_count": null,
      "outputs": []
    },
    {
      "cell_type": "code",
      "source": [
        "IPythonConsole.drawOptions.addAtomIndices = False"
      ],
      "metadata": {
        "id": "ogTabnTGqrIB"
      },
      "execution_count": null,
      "outputs": []
    },
    {
      "cell_type": "markdown",
      "source": [
        "## Highlighting differences between molecules"
      ],
      "metadata": {
        "id": "6hmR0pkLqQwd"
      }
    },
    {
      "cell_type": "code",
      "source": [
        "from rdkit import Chem\n",
        "from rdkit.Chem import Draw\n",
        "from rdkit.Chem.Draw import IPythonConsole\n",
        "from rdkit.Chem import rdFMCS\n",
        "from rdkit.Chem.Draw import rdDepictor\n",
        "rdDepictor.SetPreferCoordGen(True)\n",
        "IPythonConsole.drawOptions.minFontSize=20"
      ],
      "metadata": {
        "id": "BBxRCsf5qU1l"
      },
      "execution_count": null,
      "outputs": []
    },
    {
      "cell_type": "code",
      "source": [
        "mol1 = Chem.MolFromSmiles('FC1=CC=C2C(=C1)C=NN2')\n",
        "mol2 = Chem.MolFromSmiles('CCC1=C2NN=CC2=CC(Cl)=C1')"
      ],
      "metadata": {
        "id": "YCNXHFG5qVBT"
      },
      "execution_count": null,
      "outputs": []
    },
    {
      "cell_type": "code",
      "source": [
        "Draw.MolsToGridImage([mol1, mol2])"
      ],
      "metadata": {
        "id": "CoGsuWIjqktH"
      },
      "execution_count": null,
      "outputs": []
    },
    {
      "cell_type": "code",
      "source": [
        "# This function will find the maximum common substructure\n",
        "# See documentation for more details: https://rdkit.org/docs/GettingStartedInPython.html#maximum-common-substructure\n",
        "\n",
        "def view_difference(mol1, mol2):\n",
        "    mcs = rdFMCS.FindMCS([mol1,mol2])\n",
        "    mcs_mol = Chem.MolFromSmarts(mcs.smartsString)\n",
        "\n",
        "    match1 = mol1.GetSubstructMatch(mcs_mol)\n",
        "    target_atm1 = []\n",
        "    for atom in mol1.GetAtoms():\n",
        "        if atom.GetIdx() not in match1:\n",
        "            target_atm1.append(atom.GetIdx())\n",
        "\n",
        "    match2 = mol2.GetSubstructMatch(mcs_mol)\n",
        "    target_atm2 = []\n",
        "    for atom in mol2.GetAtoms():\n",
        "        if atom.GetIdx() not in match2:\n",
        "            target_atm2.append(atom.GetIdx())\n",
        "\n",
        "    return Draw.MolsToGridImage([mol1, mol2], highlightAtomLists=[target_atm1, target_atm2])"
      ],
      "metadata": {
        "id": "xmkzadB3qkxf"
      },
      "execution_count": null,
      "outputs": []
    },
    {
      "cell_type": "code",
      "source": [
        "view_difference(mol1,mol2)"
      ],
      "metadata": {
        "id": "CVrEp5HMr6z5"
      },
      "execution_count": null,
      "outputs": []
    },
    {
      "cell_type": "code",
      "source": [
        "rdDepictor.SetPreferCoordGen(False)"
      ],
      "metadata": {
        "id": "Wbfx_u-fth_G"
      },
      "execution_count": null,
      "outputs": []
    },
    {
      "cell_type": "markdown",
      "source": [
        "## Functional group abbreviations"
      ],
      "metadata": {
        "id": "Igz_vMnSsXkZ"
      }
    },
    {
      "cell_type": "code",
      "source": [
        "from rdkit import Chem\n",
        "from rdkit.Chem.Draw import IPythonConsole\n",
        "from rdkit.Chem import Draw\n",
        "from rdkit.Chem import rdAbbreviations"
      ],
      "metadata": {
        "id": "4kcr-SqnsZrF"
      },
      "execution_count": null,
      "outputs": []
    },
    {
      "cell_type": "code",
      "source": [
        "m = Chem.MolFromSmiles('COc1ccc(C(=O)[O-])cc1')\n",
        "m"
      ],
      "metadata": {
        "id": "DBkeQbhssZtT"
      },
      "execution_count": null,
      "outputs": []
    },
    {
      "cell_type": "code",
      "source": [
        "abbrevs = rdAbbreviations.GetDefaultAbbreviations()\n",
        "nm = rdAbbreviations.CondenseMolAbbreviations(m,abbrevs)\n",
        "nm"
      ],
      "metadata": {
        "id": "Xm1BXS7WsZv9"
      },
      "execution_count": null,
      "outputs": []
    },
    {
      "cell_type": "code",
      "source": [
        "# abbreviations that cover more than 40% of the molecule won't be applied by default\n",
        "m = Chem.MolFromSmiles('c1c[nH]cc1C(F)(F)F')\n",
        "nm1 = rdAbbreviations.CondenseMolAbbreviations(m,abbrevs)\n",
        "nm2 = rdAbbreviations.CondenseMolAbbreviations(m,abbrevs,maxCoverage=0.8)\n",
        "Draw.MolsToGridImage((m,nm1,nm2),legends=('','default','maxCoverage=0.8'))"
      ],
      "metadata": {
        "id": "x-xflQ6cshdo"
      },
      "execution_count": null,
      "outputs": []
    },
    {
      "cell_type": "code",
      "source": [
        "# See available abbreviations\n",
        "abbrevs = rdAbbreviations.GetDefaultAbbreviations()\n",
        "for a in abbrevs:\n",
        "    print(a.label)"
      ],
      "metadata": {
        "id": "2z6PgIhzshf6"
      },
      "execution_count": null,
      "outputs": []
    },
    {
      "cell_type": "markdown",
      "source": [
        "## Representing large molecules"
      ],
      "metadata": {
        "id": "ONOvLkO7s_RH"
      }
    },
    {
      "cell_type": "markdown",
      "source": [
        "> \"Some molecules like macrocycles are not represented well using the default RDKit drawing code. As a result, it may be preferable to use the CoordGen integration.\"\n",
        "\n",
        "You can set this preference globally like:\n",
        "~~~python\n",
        "from rdkit.Chem.Draw import rdDepictor\n",
        "rdDepictor.SetPreferCoordGen(True)\n",
        "~~~"
      ],
      "metadata": {
        "id": "C6QvT76-tHk4"
      }
    },
    {
      "cell_type": "code",
      "source": [
        "from rdkit import Chem\n",
        "from rdkit.Chem.Draw import IPythonConsole\n",
        "IPythonConsole.molSize = 350,300\n",
        "from rdkit.Chem import Draw"
      ],
      "metadata": {
        "id": "oiSQI3sytCaa"
      },
      "execution_count": null,
      "outputs": []
    },
    {
      "cell_type": "code",
      "source": [
        "# default drawing\n",
        "mol = Chem.MolFromSmiles(\"C/C=C/CC(C)C(O)C1C(=O)NC(CC)C(=O)N(C)CC(=O)N(C)C(CC(C)C)C(=O)NC(C(C)C)C(=O)N(C)C(CC(C)C)C(=O)NC(C)C(=O)NC(C)C(=O)N(C)C(CC(C)C)C(=O)N(C)C(CC(C)C)C(=O)N(C)C(C(C)C)C(=O)N1C\")\n",
        "mol"
      ],
      "metadata": {
        "id": "3nDhLr-wtCcm"
      },
      "execution_count": null,
      "outputs": []
    },
    {
      "cell_type": "code",
      "source": [
        "from rdkit.Chem import rdCoordGen\n",
        "rdCoordGen.AddCoords(mol)\n",
        "mol"
      ],
      "metadata": {
        "id": "Gdx-fU8ztCfM"
      },
      "execution_count": null,
      "outputs": []
    },
    {
      "cell_type": "markdown",
      "source": [
        "## Integrating with matplotlib"
      ],
      "metadata": {
        "id": "OCmUWWlmuEyH"
      }
    },
    {
      "cell_type": "code",
      "source": [
        "import matplotlib.pyplot as plt\n",
        "import numpy as np\n",
        "from rdkit import Chem\n",
        "from rdkit.Chem.Draw import IPythonConsole"
      ],
      "metadata": {
        "id": "gTsTKmw6uIIR"
      },
      "execution_count": null,
      "outputs": []
    },
    {
      "cell_type": "code",
      "source": [
        "x = np.arange(0, 180, 1)\n",
        "y = np.sin(x)"
      ],
      "metadata": {
        "id": "kPIr-5A9uILD"
      },
      "execution_count": null,
      "outputs": []
    },
    {
      "cell_type": "code",
      "source": [
        "mol = Chem.MolFromSmiles('C1CNCCC1C(=O)C')\n",
        "im = Chem.Draw.MolToImage(mol) # Convert to image"
      ],
      "metadata": {
        "id": "9yxLgbG6u241"
      },
      "execution_count": null,
      "outputs": []
    },
    {
      "cell_type": "code",
      "source": [
        "type(im)"
      ],
      "metadata": {
        "id": "zW4FMvCNu27Z"
      },
      "execution_count": null,
      "outputs": []
    },
    {
      "cell_type": "code",
      "source": [
        "fig = plt.figure(figsize=(10,5))\n",
        "plt.plot(x, y)\n",
        "plt.ylim(-1, 5)\n",
        "ax = plt.axes([0.6, 0.47, 0.38, 0.38], frameon=True)\n",
        "ax.imshow(im) # Use imshow to display\n",
        "ax.axis('off')"
      ],
      "metadata": {
        "id": "CHojUH79uINY"
      },
      "execution_count": null,
      "outputs": []
    },
    {
      "cell_type": "markdown",
      "source": [
        "# Identifying features\n",
        "Let's see to look at what features a molecule has, including properties of the atoms that make up the molecule."
      ],
      "metadata": {
        "id": "VzmlZfl1yDTw"
      }
    },
    {
      "cell_type": "markdown",
      "source": [
        "## Counting ring systems"
      ],
      "metadata": {
        "id": "JYyeSPCUyGEg"
      }
    },
    {
      "cell_type": "code",
      "source": [
        "from rdkit import Chem\n",
        "from rdkit.Chem.Draw import IPythonConsole"
      ],
      "metadata": {
        "id": "54B9yBmjyIVQ"
      },
      "execution_count": null,
      "outputs": []
    },
    {
      "cell_type": "code",
      "source": [
        "def GetRingSystems(mol, includeSpiro=False):\n",
        "    ri = mol.GetRingInfo()\n",
        "    systems = []\n",
        "    for ring in ri.AtomRings():\n",
        "        ringAts = set(ring)\n",
        "        nSystems = []\n",
        "        for system in systems:\n",
        "            nInCommon = len(ringAts.intersection(system))\n",
        "            if nInCommon and (includeSpiro or nInCommon>1):\n",
        "                ringAts = ringAts.union(system)\n",
        "            else:\n",
        "                nSystems.append(system)\n",
        "        nSystems.append(ringAts)\n",
        "        systems = nSystems\n",
        "    return systems"
      ],
      "metadata": {
        "id": "6-6wvLcUyIXe"
      },
      "execution_count": null,
      "outputs": []
    },
    {
      "cell_type": "code",
      "source": [
        "mol = Chem.MolFromSmiles('CN1C(=O)CN=C(C2=C1C=CC(=C2)Cl)C3=CC=CC=C3')\n",
        "print(GetRingSystems(mol))"
      ],
      "metadata": {
        "id": "YbVjSPEk7FKV"
      },
      "execution_count": null,
      "outputs": []
    },
    {
      "cell_type": "code",
      "source": [
        "IPythonConsole.drawOptions.addAtomIndices = True\n",
        "mol"
      ],
      "metadata": {
        "id": "Fh3sw0tF7Rby"
      },
      "execution_count": null,
      "outputs": []
    },
    {
      "cell_type": "code",
      "source": [
        "IPythonConsole.drawOptions.addAtomIndices = False"
      ],
      "metadata": {
        "id": "Ct9SRIy2yIcw"
      },
      "execution_count": null,
      "outputs": []
    },
    {
      "cell_type": "markdown",
      "source": [
        "## Identify aromatic rings"
      ],
      "metadata": {
        "id": "WkwgtQNE7kle"
      }
    },
    {
      "cell_type": "markdown",
      "source": [
        "https://rdkit.org/docs/RDKit_Book.html#aromaticity"
      ],
      "metadata": {
        "id": "0uZvTiox7rQC"
      }
    },
    {
      "cell_type": "code",
      "source": [
        "from rdkit import Chem\n",
        "IPythonConsole.drawOptions.addAtomIndices = True\n",
        "IPythonConsole.drawOptions.addBondIndices = True\n",
        "m = Chem.MolFromSmiles('c1cccc2c1CCCC2')\n",
        "m"
      ],
      "metadata": {
        "id": "yy8HuOBg7rYA"
      },
      "execution_count": null,
      "outputs": []
    },
    {
      "cell_type": "code",
      "source": [
        "ri = m.GetRingInfo()\n",
        "# You can interrogate the RingInfo object to tell you the atoms that make up each ring:\n",
        "print(ri.AtomRings())"
      ],
      "metadata": {
        "id": "Fdi0e9vy7raV"
      },
      "execution_count": null,
      "outputs": []
    },
    {
      "cell_type": "code",
      "source": [
        "# or the bonds that make up each ring:\n",
        "print(ri.BondRings())"
      ],
      "metadata": {
        "id": "L2DJrzQ-7rdB"
      },
      "execution_count": null,
      "outputs": []
    },
    {
      "cell_type": "code",
      "source": [
        "# To detect aromatic rings, loop over the bonds in each ring and\n",
        "# flag the ring as aromatic if all bonds are aromatic:\n",
        "def isRingAromatic(mol, bondRing):\n",
        "        for id in bondRing:\n",
        "            if not mol.GetBondWithIdx(id).GetIsAromatic():\n",
        "                return False\n",
        "        return True"
      ],
      "metadata": {
        "id": "31yd6QJA76mT"
      },
      "execution_count": null,
      "outputs": []
    },
    {
      "cell_type": "code",
      "source": [
        "print(isRingAromatic(m, ri.BondRings()[0]))"
      ],
      "metadata": {
        "id": "qvANT0uQ76pB"
      },
      "execution_count": null,
      "outputs": []
    },
    {
      "cell_type": "code",
      "source": [
        "print(isRingAromatic(m, ri.BondRings()[1]))"
      ],
      "metadata": {
        "id": "QnZpTOnV76t4"
      },
      "execution_count": null,
      "outputs": []
    },
    {
      "cell_type": "markdown",
      "source": [
        "## Identify atom properties"
      ],
      "metadata": {
        "id": "grE3W91N8iFb"
      }
    },
    {
      "cell_type": "markdown",
      "source": [
        "### Direct method"
      ],
      "metadata": {
        "id": "9aNuOydtc6GB"
      }
    },
    {
      "cell_type": "code",
      "source": [
        "from rdkit import Chem\n",
        "from rdkit.Chem.Draw import IPythonConsole\n",
        "from rdkit.Chem import Draw\n",
        "IPythonConsole.drawOptions.addAtomIndices = True"
      ],
      "metadata": {
        "id": "EU7dnJBccgU9"
      },
      "execution_count": null,
      "outputs": []
    },
    {
      "cell_type": "code",
      "source": [
        "mol = Chem.MolFromSmiles(\"c1ccccc1C=CCC\")\n",
        "aromatic_carbon = Chem.MolFromSmarts(\"c\")\n",
        "print(mol.GetSubstructMatches(aromatic_carbon))"
      ],
      "metadata": {
        "id": "38KMjyfS8mZ6"
      },
      "execution_count": null,
      "outputs": []
    },
    {
      "cell_type": "code",
      "source": [
        "mol"
      ],
      "metadata": {
        "id": "qp_YspzPcW70"
      },
      "execution_count": null,
      "outputs": []
    },
    {
      "cell_type": "code",
      "source": [
        "# The RDKit includes a SMARTS extension that allows hybridization queries,\n",
        "# here we query for SP2 aliphatic carbons:\n",
        "olefinic_carbon = Chem.MolFromSmarts(\"[C^2]\")\n",
        "print(mol.GetSubstructMatches(olefinic_carbon))"
      ],
      "metadata": {
        "id": "M5b8-pZB8mc7"
      },
      "execution_count": null,
      "outputs": []
    },
    {
      "cell_type": "code",
      "source": [
        "IPythonConsole.drawOptions.addAtomIndices = False"
      ],
      "metadata": {
        "id": "TeZDgf5zfVyp"
      },
      "execution_count": null,
      "outputs": []
    },
    {
      "cell_type": "markdown",
      "source": [
        "### Using rdqueries"
      ],
      "metadata": {
        "id": "tFAwsct_c8--"
      }
    },
    {
      "cell_type": "markdown",
      "source": [
        " See [rdqueries](https://rdkit.org/docs/source/rdkit.Chem.rdqueries.html?highlight=rdqueries) module for more examples on how to use these query tools."
      ],
      "metadata": {
        "id": "jkZRDvsXeQ8G"
      }
    },
    {
      "cell_type": "code",
      "source": [
        "from rdkit.Chem import rdqueries"
      ],
      "metadata": {
        "id": "QoGNGs6oc-xT"
      },
      "execution_count": null,
      "outputs": []
    },
    {
      "cell_type": "code",
      "source": [
        "mol = Chem.MolFromSmiles(\"c1ccccc1C=CCC\")\n",
        "q = rdqueries.IsAromaticQueryAtom()\n",
        "print([x.GetIdx() for x in mol.GetAtomsMatchingQuery(q)])"
      ],
      "metadata": {
        "id": "ZQeOVv3Gc-0K"
      },
      "execution_count": null,
      "outputs": []
    },
    {
      "cell_type": "code",
      "source": [
        "q = rdqueries.HybridizationEqualsQueryAtom(Chem.HybridizationType.SP2)\n",
        "print([x.GetIdx() for x in mol.GetAtomsMatchingQuery(q)])"
      ],
      "metadata": {
        "id": "qVGvySdPc-5U"
      },
      "execution_count": null,
      "outputs": []
    },
    {
      "cell_type": "code",
      "source": [
        "qcombined = rdqueries.IsAliphaticQueryAtom()\n",
        "qcombined.ExpandQuery(q)\n",
        "print([x.GetIdx() for x in mol.GetAtomsMatchingQuery(qcombined)])"
      ],
      "metadata": {
        "id": "Yw2po-twc-8s"
      },
      "execution_count": null,
      "outputs": []
    },
    {
      "cell_type": "markdown",
      "source": [
        "# Manipulating molecules\n",
        "Now, let's look at how to make your own molecules and bonds from scratch."
      ],
      "metadata": {
        "id": "1a7coWY6kVpp"
      }
    },
    {
      "cell_type": "markdown",
      "source": [
        "## Creating a molecule"
      ],
      "metadata": {
        "id": "_pcJvWWjfDYq"
      }
    },
    {
      "cell_type": "code",
      "source": [],
      "metadata": {
        "id": "lMrUyB6_fFb2"
      },
      "execution_count": null,
      "outputs": []
    },
    {
      "cell_type": "code",
      "source": [],
      "metadata": {
        "id": "68UC2AMofFe8"
      },
      "execution_count": null,
      "outputs": []
    },
    {
      "cell_type": "code",
      "source": [],
      "metadata": {
        "id": "Ey6bpOuyfFjd"
      },
      "execution_count": null,
      "outputs": []
    },
    {
      "cell_type": "markdown",
      "source": [
        "## Fragmenting a molecule"
      ],
      "metadata": {
        "id": "nIHuI-uPexmj"
      }
    },
    {
      "cell_type": "markdown",
      "source": [
        "### Fragmentation tools"
      ],
      "metadata": {
        "id": "4ZhOmpZDh5-c"
      }
    },
    {
      "cell_type": "code",
      "source": [
        "from rdkit import Chem\n",
        "from rdkit.Chem.Draw import IPythonConsole, MolsToGridImage\n",
        "IPythonConsole.drawOptions.addBondIndices = True\n",
        "IPythonConsole.drawOptions.addAtomIndices = True\n",
        "\n",
        "# I have put explicit bonds in the SMILES definition to facilitate comprehension:\n",
        "mol = Chem.MolFromSmiles(\"O-C-C-C-C-N\")\n",
        "mol1 = Chem.Mol(mol)\n",
        "mol2 = Chem.Mol(mol)\n",
        "mol1"
      ],
      "metadata": {
        "id": "EpsdqeNHeuOV"
      },
      "execution_count": null,
      "outputs": []
    },
    {
      "cell_type": "code",
      "source": [
        "# Chem.FragmentOnBonds() will fragment all specified bond indices at once, and return a single molecule\n",
        "# with all specified cuts applied. By default, addDummies=True, so empty valences are filled with dummy atoms:\n",
        "mol1_f = Chem.FragmentOnBonds(mol1, (0, 2, 4))\n",
        "mol1_f"
      ],
      "metadata": {
        "id": "J4jM9PI1fGnp"
      },
      "execution_count": null,
      "outputs": []
    },
    {
      "cell_type": "code",
      "source": [
        "# This molecule can be split into individual fragments using Chem.GetMolFrags():\n",
        "MolsToGridImage(Chem.GetMolFrags(mol1_f, asMols=True))"
      ],
      "metadata": {
        "id": "x1dK_H82fGp9"
      },
      "execution_count": null,
      "outputs": []
    },
    {
      "cell_type": "code",
      "source": [
        "# Chem.FragmentOnSomeBonds() will fragment according to all permutations of numToBreak bonds at a time\n",
        "# (numToBreak defaults to 1), and return tuple of molecules with numToBreak cuts applied. By default,\n",
        "# addDummies=True, so empty valences are filled with dummy atoms:\n",
        "mol2_f_tuple = Chem.FragmentOnSomeBonds(mol2, (0, 2, 4), numToBreak=1)"
      ],
      "metadata": {
        "id": "_6Z_bMaqfGsL"
      },
      "execution_count": null,
      "outputs": []
    },
    {
      "cell_type": "code",
      "source": [
        "Draw.MolsToGridImage(Chem.GetMolFrags(mol2_f_tuple[0], asMols=True), subImgSize=(250,250))"
      ],
      "metadata": {
        "id": "JEjiMi78fG2t"
      },
      "execution_count": null,
      "outputs": []
    },
    {
      "cell_type": "code",
      "source": [
        "Draw.MolsToGridImage(Chem.GetMolFrags(mol2_f_tuple[1], asMols=True), subImgSize=(250,250))"
      ],
      "metadata": {
        "id": "80bwK4Yig26P"
      },
      "execution_count": null,
      "outputs": []
    },
    {
      "cell_type": "code",
      "source": [
        "Draw.MolsToGridImage(Chem.GetMolFrags(mol2_f_tuple[2], asMols=True), subImgSize=(250,250))"
      ],
      "metadata": {
        "id": "3i5VMh_6g29A"
      },
      "execution_count": null,
      "outputs": []
    },
    {
      "cell_type": "markdown",
      "source": [
        "### Manually remove bonds"
      ],
      "metadata": {
        "id": "GSFmKX8Sh93X"
      }
    },
    {
      "cell_type": "code",
      "source": [
        "# Finally, you can manually cut bonds using Chem.RWMol.RemoveBonds:\n",
        "with Chem.RWMol(mol) as rwmol:\n",
        "  for b_idx in [0, 2, 4]:\n",
        "    b = rwmol.GetBondWithIdx(b_idx)\n",
        "    rwmol.RemoveBond(b.GetBeginAtomIdx(), b.GetEndAtomIdx())\n",
        "# And then call Chem.GetMolFrags() to get sanitized fragments where empty valences were filled with implicit hydrogens:\n",
        "MolsToGridImage(Chem.GetMolFrags(rwmol, asMols=True))"
      ],
      "metadata": {
        "id": "fvRVpyezg3B2"
      },
      "execution_count": null,
      "outputs": []
    },
    {
      "cell_type": "code",
      "source": [
        "IPythonConsole.drawOptions.addBondIndices = False\n",
        "IPythonConsole.drawOptions.addAtomIndices = False"
      ],
      "metadata": {
        "id": "tV5HTk9-g8LY"
      },
      "execution_count": null,
      "outputs": []
    },
    {
      "cell_type": "markdown",
      "source": [],
      "metadata": {
        "id": "m5HGiTwrjQ7y"
      }
    }
  ]
}