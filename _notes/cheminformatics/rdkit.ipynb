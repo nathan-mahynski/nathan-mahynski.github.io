{
  "nbformat": 4,
  "nbformat_minor": 0,
  "metadata": {
    "colab": {
      "private_outputs": true,
      "provenance": [],
      "toc_visible": true
    },
    "kernelspec": {
      "name": "python3",
      "display_name": "Python 3"
    },
    "language_info": {
      "name": "python"
    }
  },
  "cells": [
    {
      "cell_type": "markdown",
      "source": [
        "A primer on using [RDKit](https://www.rdkit.org/ )\n",
        "---\n",
        "\n",
        "This is a popular package for cheminformatics calculations and manipulations. The [documentation](https://rdkit.org/docs/index.html) contains many examples, recipes, and links to other resources. A full history is given [here](https://rdkit.org/docs/Overview.html#open-source-toolkit-for-cheminformatics). Due to its popularity, many other open source tools used RDKit and related/compatible data structures.\n",
        "\n",
        "The [RDKit book](https://rdkit.org/docs/RDKit_Book.html) explains conventions, approaches, and features.\n",
        "\n",
        "These notes will focus on using rdkit in python and focus on only portions of the toolkit. The [cookbook](https://rdkit.org/docs/Cookbook.html) has a lot of recipes, many of which are used below. RDKit provides attribution for these original examples, which may be modified below."
      ],
      "metadata": {
        "id": "vDysQgecG1pA"
      }
    },
    {
      "cell_type": "code",
      "source": [
        "!pip install rdkit"
      ],
      "metadata": {
        "id": "MMiu7rIqk4vw"
      },
      "execution_count": null,
      "outputs": []
    },
    {
      "cell_type": "code",
      "source": [
        "import rdkit \n",
        "rdkit.__version__"
      ],
      "metadata": {
        "id": "2mmD9aKlocL-"
      },
      "execution_count": null,
      "outputs": []
    },
    {
      "cell_type": "markdown",
      "source": [
        "# The Basics"
      ],
      "metadata": {
        "id": "IwEi8esLrbYt"
      }
    },
    {
      "cell_type": "markdown",
      "source": [
        "> \"Chem vs AllChem: The majority of “basic” chemical functionality (e.g. reading/writing molecules, substructure searching, molecular cleanup, etc.) is in the rdkit.Chem module. More advanced, or less frequently used, functionality is in rdkit.Chem.AllChem. The distinction has been made to speed startup and lower import times; there’s no sense in loading the 2D->3D library and force field implementation if one is only interested in reading and writing a couple of molecules. If you find the Chem/AllChem thing annoying or confusing, you can use python’s “import … as …” syntax to remove the irritation.\"\n",
        "\n",
        "~~~python\n",
        "from rdkit.Chem import AllChem as Chem\n",
        "~~~\n",
        "\n",
        "Otherwise you can just import the Chem module.  I personally, do not notice a substantial difference."
      ],
      "metadata": {
        "id": "x1OcMqfNrGYk"
      }
    },
    {
      "cell_type": "markdown",
      "source": [
        "There are 2 basic languages used to describe molecules: [SMILES](https://www.daylight.com/dayhtml/doc/theory/theory.smiles.html) and [SMARTS](https://www.daylight.com/dayhtml/doc/theory/theory.smarts.html)\n"
      ],
      "metadata": {
        "id": "iZ8yCPqbrcy7"
      }
    },
    {
      "cell_type": "markdown",
      "source": [
        "## SMILES\n",
        "\n",
        "* The original SMILES specification was developed by a company called Daylight; their description is [here](https://www.daylight.com/dayhtml/doc/theory/theory.smiles.html).\n",
        "\n",
        "* The [opensmiles](http://opensmiles.org/) specification is described [here](http://opensmiles.org/opensmiles.html)\n",
        "\n",
        "* Wikipedia's description is [here](https://en.wikipedia.org/wiki/Simplified_molecular-input_line-entry_system).\n",
        "\n",
        "> \"In terms of a graph-based computational procedure, SMILES is a string obtained by printing the symbol nodes encountered in a depth-first tree traversal of a chemical graph. The chemical graph is first trimmed to remove hydrogen atoms and cycles are broken to turn it into a spanning tree. Where cycles have been broken, numeric suffix labels are included to indicate the connected nodes. Parentheses are used to indicate points of branching on the tree.\n",
        ">\n",
        "> The resultant SMILES form depends on the choices:\n",
        ">\n",
        "> * of the bonds chosen to break cycles,\n",
        "> * of the starting atom used for the depth-first traversal, and\n",
        "> * of the order in which branches are listed when encountered.\n",
        "\n",
        "There is a \"canonical\" form which standardizes this and is unique.  There are a number of different algorithms for canonicalization, and they may not produce the same results as each other."
      ],
      "metadata": {
        "id": "PYNyy3SeaSD5"
      }
    },
    {
      "cell_type": "code",
      "source": [
        "from rdkit import Chem\n",
        "mol = Chem.MolFromSmiles('CC(N)C1CC1')\n",
        "Chem.MolToRandomSmilesVect(mol, 5, randomSeed=42)"
      ],
      "metadata": {
        "id": "DPF40dYElAnX"
      },
      "execution_count": null,
      "outputs": []
    },
    {
      "cell_type": "code",
      "source": [
        "smis = []\n",
        "for i in range(5):\n",
        "    smis.append(Chem.MolToSmiles(mol, doRandom=True, canonical=False)) # Do not use the canonical form\n",
        "smis"
      ],
      "metadata": {
        "id": "2gh6xSm8li3j"
      },
      "execution_count": null,
      "outputs": []
    },
    {
      "cell_type": "code",
      "source": [
        "smi = \"CN1C(NC2=NC=CC=C2)=CC=C1\"\n",
        "mol = Chem.MolFromSmiles(smi)\n",
        "print(Chem.MolToSmiles(mol))"
      ],
      "metadata": {
        "id": "x0Jv3nsTaOjm"
      },
      "execution_count": null,
      "outputs": []
    },
    {
      "cell_type": "code",
      "source": [
        "Chem.Kekulize(mol) # Kekule SMILES\n",
        "print(Chem.MolToSmiles(mol, kekuleSmiles=True))"
      ],
      "metadata": {
        "id": "-rX5DCO-aOnA"
      },
      "execution_count": null,
      "outputs": []
    },
    {
      "cell_type": "code",
      "source": [
        "?Chem.Kekulize"
      ],
      "metadata": {
        "id": "56vRzmqGaOp-"
      },
      "execution_count": null,
      "outputs": []
    },
    {
      "cell_type": "code",
      "source": [
        "# You can detect chemistry problems automatically\n",
        "from rdkit import Chem\n",
        "m = Chem.MolFromSmiles('CN(C)(C)C', sanitize=False)\n",
        "problems = Chem.DetectChemistryProblems(m)"
      ],
      "metadata": {
        "id": "4caeyKgmaOru"
      },
      "execution_count": null,
      "outputs": []
    },
    {
      "cell_type": "code",
      "source": [
        "problems[0].GetType()"
      ],
      "metadata": {
        "id": "Tmck4DO1dPnm"
      },
      "execution_count": null,
      "outputs": []
    },
    {
      "cell_type": "code",
      "source": [
        "problems[0].GetAtomIdx()"
      ],
      "metadata": {
        "id": "nqfk7vs0dVw1"
      },
      "execution_count": null,
      "outputs": []
    },
    {
      "cell_type": "code",
      "source": [
        "problems[0].Message()"
      ],
      "metadata": {
        "id": "Jeq83IjSdVzi"
      },
      "execution_count": null,
      "outputs": []
    },
    {
      "cell_type": "code",
      "source": [
        "m = Chem.MolFromSmiles('CN(C)(C)C', sanitize=True)"
      ],
      "metadata": {
        "id": "f06bvS8Udnmt"
      },
      "execution_count": null,
      "outputs": []
    },
    {
      "cell_type": "code",
      "source": [
        "type(m) # Santization does not return an invalid molecule"
      ],
      "metadata": {
        "id": "vHBbnIZEdrQ_"
      },
      "execution_count": null,
      "outputs": []
    },
    {
      "cell_type": "markdown",
      "source": [
        "## SMARTS"
      ],
      "metadata": {
        "id": "Lw9TLRBfaUeR"
      }
    },
    {
      "cell_type": "code",
      "source": [],
      "metadata": {
        "id": "g9NCVdMgaWKk"
      },
      "execution_count": null,
      "outputs": []
    },
    {
      "cell_type": "code",
      "source": [],
      "metadata": {
        "id": "jvFr2JU7aWNs"
      },
      "execution_count": null,
      "outputs": []
    },
    {
      "cell_type": "code",
      "source": [],
      "metadata": {
        "id": "LnhfqPUtaWQd"
      },
      "execution_count": null,
      "outputs": []
    },
    {
      "cell_type": "markdown",
      "source": [
        "# Visualization\n",
        "Let's look at some existing molecules and how to manipulate them."
      ],
      "metadata": {
        "id": "AJyATNc9kLWK"
      }
    },
    {
      "cell_type": "markdown",
      "source": [
        "## Drawing a molecule"
      ],
      "metadata": {
        "id": "Pd8FhaSskQ5_"
      }
    },
    {
      "cell_type": "markdown",
      "source": [
        "### Option 1: Map index to atom location directly"
      ],
      "metadata": {
        "id": "ktgEj3h9lQ5O"
      }
    },
    {
      "cell_type": "code",
      "source": [
        "from rdkit import Chem\n",
        "from rdkit.Chem.Draw import IPythonConsole\n",
        "from rdkit.Chem import Draw\n",
        "IPythonConsole.ipython_useSVG=True  #< set this to False if you want PNGs instead of SVGs"
      ],
      "metadata": {
        "id": "O9R4B-9gkVfZ"
      },
      "execution_count": null,
      "outputs": []
    },
    {
      "cell_type": "code",
      "source": [
        "def mol_with_atom_index(mol):\n",
        "    for atom in mol.GetAtoms():\n",
        "        atom.SetAtomMapNum(atom.GetIdx())\n",
        "    return mol"
      ],
      "metadata": {
        "id": "mkrW3n2KkwfZ"
      },
      "execution_count": null,
      "outputs": []
    },
    {
      "cell_type": "code",
      "source": [
        "# Test in a kinase inhibitor\n",
        "mol = Chem.MolFromSmiles(\"C1CC2=C3C(=CC=C2)C(=CN3C1)[C@H]4[C@@H](C(=O)NC4=O)C5=CNC6=CC=CC=C65\")\n",
        "# Default\n",
        "mol"
      ],
      "metadata": {
        "id": "vhQ5yEOrkwh8"
      },
      "execution_count": null,
      "outputs": []
    },
    {
      "cell_type": "code",
      "source": [
        "# With atom index\n",
        "mol_with_atom_index(mol)"
      ],
      "metadata": {
        "id": "6_WCwWZ-lF2R"
      },
      "execution_count": null,
      "outputs": []
    },
    {
      "cell_type": "markdown",
      "source": [
        "### Option 2: Using Jupyter display settings directly (better)"
      ],
      "metadata": {
        "id": "RDO3dkdmlXTj"
      }
    },
    {
      "cell_type": "code",
      "source": [
        "from rdkit import Chem\n",
        "from rdkit.Chem.Draw import IPythonConsole\n",
        "from rdkit.Chem import Draw\n",
        "IPythonConsole.drawOptions.addAtomIndices = True\n",
        "IPythonConsole.molSize = 300,300"
      ],
      "metadata": {
        "id": "e_ZCDJr6lF5A"
      },
      "execution_count": null,
      "outputs": []
    },
    {
      "cell_type": "code",
      "source": [
        "mol = Chem.MolFromSmiles(\"C1CC2=C3C(=CC=C2)C(=CN3C1)[C@H]4[C@@H](C(=O)NC4=O)C5=CNC6=CC=CC=C65\")\n",
        "mol"
      ],
      "metadata": {
        "id": "sJQDrQkclF7M"
      },
      "execution_count": null,
      "outputs": []
    },
    {
      "cell_type": "code",
      "source": [
        "IPythonConsole.drawOptions.addAtomIndices = False"
      ],
      "metadata": {
        "id": "tJMOC_MAm0I5"
      },
      "execution_count": null,
      "outputs": []
    },
    {
      "cell_type": "markdown",
      "source": [
        "## Display calculated features and annotations"
      ],
      "metadata": {
        "id": "hwaf3hOQllpy"
      }
    },
    {
      "cell_type": "code",
      "source": [
        "from rdkit import Chem\n",
        "from rdkit.Chem import AllChem\n",
        "from rdkit.Chem.Draw import IPythonConsole\n",
        "IPythonConsole.molSize = 250,250"
      ],
      "metadata": {
        "id": "ArYFxETClF9Z"
      },
      "execution_count": null,
      "outputs": []
    },
    {
      "cell_type": "code",
      "source": [
        "m = Chem.MolFromSmiles('c1ncncc1C(=O)[O-]')\n",
        "AllChem.ComputeGasteigerCharges(m)\n",
        "m"
      ],
      "metadata": {
        "id": "4TXaac3Ul9fq"
      },
      "execution_count": null,
      "outputs": []
    },
    {
      "cell_type": "code",
      "source": [
        "# The 'atomNote' property lets you add arbitrary annotations\n",
        "# There is an analogous 'bondNote' too (e.g., mol.GetBondWithIdx(0).SetProp('bondNote', 'bar'))\n",
        "m2 = Chem.Mol(m)\n",
        "for at in m2.GetAtoms():\n",
        "    lbl = '%.2f'%(at.GetDoubleProp(\"_GasteigerCharge\"))\n",
        "    at.SetProp('atomNote',lbl)\n",
        "m2"
      ],
      "metadata": {
        "id": "QN8r2VRMl9ht"
      },
      "execution_count": null,
      "outputs": []
    },
    {
      "cell_type": "code",
      "source": [
        "# You can combine this with other annotations - by default they are separated by a comma\n",
        "IPythonConsole.drawOptions.addAtomIndices = True\n",
        "m2"
      ],
      "metadata": {
        "id": "w8WeDqHYmG5w"
      },
      "execution_count": null,
      "outputs": []
    },
    {
      "cell_type": "code",
      "source": [
        "# You can also add sub/superscripts to your annotations\n",
        "smi = 'c1nc(*)ccc1* |$;;;R1;;;;R2$|'\n",
        "mol = Chem.MolFromSmiles(smi)\n",
        "mol.GetAtomWithIdx(3).SetProp(\"_displayLabel\",\"CO<sub>2</sub>H\")\n",
        "mol.GetAtomWithIdx(3).SetProp(\"_displayLabelW\",\"HO<sub>2</sub>C\")\n",
        "mol.GetAtomWithIdx(7).SetProp(\"_displayLabel\",\"CO<sub>2</sub><sup>-</sup>\")\n",
        "mol.GetAtomWithIdx(7).SetProp(\"_displayLabelW\",\"<sup>-</sup>OOC\")\n",
        "mol"
      ],
      "metadata": {
        "id": "ofztyetusJvY"
      },
      "execution_count": null,
      "outputs": []
    },
    {
      "cell_type": "code",
      "source": [
        "IPythonConsole.drawOptions.addAtomIndices = False"
      ],
      "metadata": {
        "id": "QjVDzwpEmG8A"
      },
      "execution_count": null,
      "outputs": []
    },
    {
      "cell_type": "markdown",
      "source": [
        "## Stereochemistry"
      ],
      "metadata": {
        "id": "zC0FbU86nZ4C"
      }
    },
    {
      "cell_type": "code",
      "source": [
        "from rdkit import Chem\n",
        "from rdkit.Chem import Draw\n",
        "from rdkit.Chem.Draw import IPythonConsole\n",
        "IPythonConsole.drawOptions.addAtomIndices = False\n",
        "IPythonConsole.drawOptions.addStereoAnnotation = True"
      ],
      "metadata": {
        "id": "tUeEMc2bneYX"
      },
      "execution_count": null,
      "outputs": []
    },
    {
      "cell_type": "code",
      "source": [
        "# Default Representation uses legacy FindMolChiralCenters() code\n",
        "m1 = Chem.MolFromSmiles('C1CC1[C@H](F)C1CCC1')\n",
        "m2 = Chem.MolFromSmiles('F[C@H]1CC[C@H](O)CC1')\n",
        "Draw.MolsToGridImage((m1,m2), subImgSize=(250,250))"
      ],
      "metadata": {
        "id": "4cqVZeX-neay"
      },
      "execution_count": null,
      "outputs": []
    },
    {
      "cell_type": "code",
      "source": [
        "# new stereochemistry code with more accurate CIP labels, 2020.09 release\n",
        "from rdkit.Chem import rdCIPLabeler\n",
        "rdCIPLabeler.AssignCIPLabels(m1)\n",
        "rdCIPLabeler.AssignCIPLabels(m2)\n",
        "Draw.MolsToGridImage((m1,m2), subImgSize=(250,250))"
      ],
      "metadata": {
        "id": "PCct3y0Bnecw"
      },
      "execution_count": null,
      "outputs": []
    },
    {
      "cell_type": "markdown",
      "source": [
        "## Highlighting substructures"
      ],
      "metadata": {
        "id": "ppVJ2iCaoDwQ"
      }
    },
    {
      "cell_type": "code",
      "source": [
        "from rdkit import Chem\n",
        "from rdkit.Chem import Draw\n",
        "from rdkit.Chem.Draw import IPythonConsole\n",
        "IPythonConsole.drawOptions.addAtomIndices = True"
      ],
      "metadata": {
        "id": "BByNXBfmoGZL"
      },
      "execution_count": null,
      "outputs": []
    },
    {
      "cell_type": "code",
      "source": [
        "m = Chem.MolFromSmiles('c1cc(C(=O)O)c(OC(=O)C)cc1')\n",
        "substructure = Chem.MolFromSmarts('C(=O)O')"
      ],
      "metadata": {
        "id": "wFM34irsoGdm"
      },
      "execution_count": null,
      "outputs": []
    },
    {
      "cell_type": "code",
      "source": [
        "Draw.MolsToGridImage((m, substructure))"
      ],
      "metadata": {
        "id": "np5EXnKgpeMk"
      },
      "execution_count": null,
      "outputs": []
    },
    {
      "cell_type": "code",
      "source": [
        "subs = m.GetSubstructMatches(substructure)\n",
        "# ?m.GetSubstructMatches\n",
        "# Returns tuples of the indices of the molecule's atoms that match a substructure query."
      ],
      "metadata": {
        "id": "otv_OmNroGf5"
      },
      "execution_count": null,
      "outputs": []
    },
    {
      "cell_type": "code",
      "source": [
        "subs"
      ],
      "metadata": {
        "id": "xR5hvWuOTRtN"
      },
      "execution_count": null,
      "outputs": []
    },
    {
      "cell_type": "code",
      "source": [
        "m # The structure is colored in-place"
      ],
      "metadata": {
        "id": "e9_I0sAMoGie"
      },
      "execution_count": null,
      "outputs": []
    },
    {
      "cell_type": "code",
      "source": [
        "Chem.MolFragmentToSmiles(m, subs[0])"
      ],
      "metadata": {
        "id": "7z8-D1o7TUNi"
      },
      "execution_count": null,
      "outputs": []
    },
    {
      "cell_type": "code",
      "source": [
        "Chem.MolFragmentToSmiles(m, subs[1])"
      ],
      "metadata": {
        "id": "4923wQBlTipf"
      },
      "execution_count": null,
      "outputs": []
    },
    {
      "cell_type": "code",
      "source": [
        "# You can also manually set the atoms that should be highlighted:\n",
        "m.__sssAtoms = [0,1,2,6,11,12]\n",
        "m"
      ],
      "metadata": {
        "id": "uZ_Yfa7cpWoB"
      },
      "execution_count": null,
      "outputs": []
    },
    {
      "cell_type": "code",
      "source": [
        "IPythonConsole.drawOptions.addAtomIndices = False"
      ],
      "metadata": {
        "id": "ogTabnTGqrIB"
      },
      "execution_count": null,
      "outputs": []
    },
    {
      "cell_type": "markdown",
      "source": [
        "## Highlighting differences between molecules"
      ],
      "metadata": {
        "id": "6hmR0pkLqQwd"
      }
    },
    {
      "cell_type": "code",
      "source": [
        "from rdkit import Chem\n",
        "from rdkit.Chem import Draw\n",
        "from rdkit.Chem.Draw import IPythonConsole\n",
        "from rdkit.Chem import rdFMCS\n",
        "from rdkit.Chem.Draw import rdDepictor\n",
        "rdDepictor.SetPreferCoordGen(True)\n",
        "IPythonConsole.drawOptions.minFontSize=20"
      ],
      "metadata": {
        "id": "BBxRCsf5qU1l"
      },
      "execution_count": null,
      "outputs": []
    },
    {
      "cell_type": "code",
      "source": [
        "mol1 = Chem.MolFromSmiles('FC1=CC=C2C(=C1)C=NN2')\n",
        "mol2 = Chem.MolFromSmiles('CCC1=C2NN=CC2=CC(Cl)=C1')"
      ],
      "metadata": {
        "id": "YCNXHFG5qVBT"
      },
      "execution_count": null,
      "outputs": []
    },
    {
      "cell_type": "code",
      "source": [
        "Draw.MolsToGridImage([mol1, mol2])"
      ],
      "metadata": {
        "id": "CoGsuWIjqktH"
      },
      "execution_count": null,
      "outputs": []
    },
    {
      "cell_type": "code",
      "source": [
        "# This function will find the maximum common substructure\n",
        "# See documentation for more details: https://rdkit.org/docs/GettingStartedInPython.html#maximum-common-substructure\n",
        "\n",
        "def view_difference(mol1, mol2):\n",
        "    mcs = rdFMCS.FindMCS([mol1,mol2])\n",
        "    mcs_mol = Chem.MolFromSmarts(mcs.smartsString)\n",
        "\n",
        "    match1 = mol1.GetSubstructMatch(mcs_mol)\n",
        "    target_atm1 = []\n",
        "    for atom in mol1.GetAtoms():\n",
        "        if atom.GetIdx() not in match1:\n",
        "            target_atm1.append(atom.GetIdx())\n",
        "\n",
        "    match2 = mol2.GetSubstructMatch(mcs_mol)\n",
        "    target_atm2 = []\n",
        "    for atom in mol2.GetAtoms():\n",
        "        if atom.GetIdx() not in match2:\n",
        "            target_atm2.append(atom.GetIdx())\n",
        "\n",
        "    return Draw.MolsToGridImage([mol1, mol2], highlightAtomLists=[target_atm1, target_atm2])"
      ],
      "metadata": {
        "id": "xmkzadB3qkxf"
      },
      "execution_count": null,
      "outputs": []
    },
    {
      "cell_type": "code",
      "source": [
        "view_difference(mol1,mol2)"
      ],
      "metadata": {
        "id": "CVrEp5HMr6z5"
      },
      "execution_count": null,
      "outputs": []
    },
    {
      "cell_type": "code",
      "source": [
        "rdDepictor.SetPreferCoordGen(False)"
      ],
      "metadata": {
        "id": "Wbfx_u-fth_G"
      },
      "execution_count": null,
      "outputs": []
    },
    {
      "cell_type": "markdown",
      "source": [
        "## Elaborate (multi)coloring"
      ],
      "metadata": {
        "id": "CSs4s0x4y_Is"
      }
    },
    {
      "cell_type": "code",
      "source": [
        "# It is possible to color atoms multiple ways if they fall into multiple sets"
      ],
      "metadata": {
        "id": "0pvRZYEAzF9A"
      },
      "execution_count": null,
      "outputs": []
    },
    {
      "cell_type": "code",
      "source": [
        "from rdkit import Chem\n",
        "from rdkit.Chem import Draw\n",
        "from rdkit.Chem.Draw import rdMolDraw2D\n",
        "from rdkit.Chem.Draw import IPythonConsole\n",
        "from IPython.display import SVG\n",
        "\n",
        "smi = 'c1cc(F)ccc1Cl'\n",
        "mol = Chem.MolFromSmiles(smi)\n",
        "patt = Chem.MolFromSmarts('ClccccF')\n",
        "hit_ats = list(mol.GetSubstructMatch(patt))\n",
        "\n",
        "hit_bonds = []\n",
        "for bond in patt.GetBonds():\n",
        "  aid1 = hit_ats[bond.GetBeginAtomIdx()]\n",
        "  aid2 = hit_ats[bond.GetEndAtomIdx()]\n",
        "  hit_bonds.append(mol.GetBondBetweenAtoms(aid1,aid2).GetIdx())"
      ],
      "metadata": {
        "id": "VQnSN2rIj742"
      },
      "execution_count": null,
      "outputs": []
    },
    {
      "cell_type": "code",
      "source": [
        "d = rdMolDraw2D.MolDraw2DSVG(250, 250) # or MolDraw2DCairo to get PNGs\n",
        "rdMolDraw2D.PrepareAndDrawMolecule(d, mol, highlightAtoms=hit_ats, highlightBonds=hit_bonds)\n",
        "d.FinishDrawing()\n",
        "SVG(d.GetDrawingText())"
      ],
      "metadata": {
        "id": "qIn__yvNkYs9"
      },
      "execution_count": null,
      "outputs": []
    },
    {
      "cell_type": "code",
      "source": [
        "def colors(index):\n",
        "  # A simple function that returns a color based on an index\n",
        "  if index%4 == 0:\n",
        "    return (0.8,0.0,0.8)\n",
        "  elif index%4 == 1:\n",
        "    return (0.8,0.8,0)\n",
        "  elif index%4 == 2: \n",
        "    return (0,0.8,0.8)\n",
        "  else: \n",
        "    return (0,0,0.8)\n",
        "  \n",
        "atom_cols = {}\n",
        "for i, at in enumerate(hit_ats):\n",
        "  atom_cols[at] = colors(i)\n",
        "\n",
        "bond_cols = {}\n",
        "for i, bd in enumerate(hit_bonds):\n",
        "  bond_cols[bd] = colors(3 - i%4)"
      ],
      "metadata": {
        "id": "6IiMTkLtzGBv"
      },
      "execution_count": null,
      "outputs": []
    },
    {
      "cell_type": "code",
      "source": [
        "d = rdMolDraw2D.MolDraw2DSVG(250, 250) # or MolDraw2DCairo to get PNGs\n",
        "rdMolDraw2D.PrepareAndDrawMolecule(d, mol, highlightAtoms=hit_ats,\n",
        "                                   highlightAtomColors=atom_cols,\n",
        "                                   highlightBonds=hit_bonds,\n",
        "                                   highlightBondColors=bond_cols)\n",
        "d.FinishDrawing()\n",
        "SVG(d.GetDrawingText())"
      ],
      "metadata": {
        "id": "VPbBBb_UzGDk"
      },
      "execution_count": null,
      "outputs": []
    },
    {
      "cell_type": "code",
      "source": [
        "# See https://github.com/rdkit/rdkit/blob/master/Docs/Book/data/test_multi_colours.py for an even more elaborate example"
      ],
      "metadata": {
        "id": "5PfP28XgzGFQ"
      },
      "execution_count": null,
      "outputs": []
    },
    {
      "cell_type": "markdown",
      "source": [
        "## Functional group abbreviations"
      ],
      "metadata": {
        "id": "Igz_vMnSsXkZ"
      }
    },
    {
      "cell_type": "code",
      "source": [
        "from rdkit import Chem\n",
        "from rdkit.Chem.Draw import IPythonConsole\n",
        "from rdkit.Chem import Draw\n",
        "from rdkit.Chem import rdAbbreviations"
      ],
      "metadata": {
        "id": "4kcr-SqnsZrF"
      },
      "execution_count": null,
      "outputs": []
    },
    {
      "cell_type": "code",
      "source": [
        "m = Chem.MolFromSmiles('COc1ccc(C(=O)[O-])cc1')\n",
        "m"
      ],
      "metadata": {
        "id": "DBkeQbhssZtT"
      },
      "execution_count": null,
      "outputs": []
    },
    {
      "cell_type": "code",
      "source": [
        "abbrevs = rdAbbreviations.GetDefaultAbbreviations()\n",
        "nm = rdAbbreviations.CondenseMolAbbreviations(m,abbrevs)\n",
        "nm"
      ],
      "metadata": {
        "id": "Xm1BXS7WsZv9"
      },
      "execution_count": null,
      "outputs": []
    },
    {
      "cell_type": "code",
      "source": [
        "# abbreviations that cover more than 40% of the molecule won't be applied by default\n",
        "m = Chem.MolFromSmiles('c1c[nH]cc1C(F)(F)F')\n",
        "nm1 = rdAbbreviations.CondenseMolAbbreviations(m,abbrevs)\n",
        "nm2 = rdAbbreviations.CondenseMolAbbreviations(m,abbrevs,maxCoverage=0.8)\n",
        "Draw.MolsToGridImage((m,nm1,nm2),legends=('','default','maxCoverage=0.8'))"
      ],
      "metadata": {
        "id": "x-xflQ6cshdo"
      },
      "execution_count": null,
      "outputs": []
    },
    {
      "cell_type": "code",
      "source": [
        "# See available abbreviations\n",
        "abbrevs = rdAbbreviations.GetDefaultAbbreviations()\n",
        "for a in abbrevs:\n",
        "    print(a.label)"
      ],
      "metadata": {
        "id": "2z6PgIhzshf6"
      },
      "execution_count": null,
      "outputs": []
    },
    {
      "cell_type": "markdown",
      "source": [
        "## Representing large molecules"
      ],
      "metadata": {
        "id": "ONOvLkO7s_RH"
      }
    },
    {
      "cell_type": "markdown",
      "source": [
        "> \"Some molecules like macrocycles are not represented well using the default RDKit drawing code. As a result, it may be preferable to use the CoordGen integration.\"\n",
        "\n",
        "You can set this preference globally like:\n",
        "~~~python\n",
        "from rdkit.Chem.Draw import rdDepictor\n",
        "rdDepictor.SetPreferCoordGen(True)\n",
        "~~~"
      ],
      "metadata": {
        "id": "C6QvT76-tHk4"
      }
    },
    {
      "cell_type": "code",
      "source": [
        "from rdkit import Chem\n",
        "from rdkit.Chem.Draw import IPythonConsole\n",
        "IPythonConsole.molSize = 350,300\n",
        "from rdkit.Chem import Draw"
      ],
      "metadata": {
        "id": "oiSQI3sytCaa"
      },
      "execution_count": null,
      "outputs": []
    },
    {
      "cell_type": "code",
      "source": [
        "# default drawing\n",
        "mol = Chem.MolFromSmiles(\"C/C=C/CC(C)C(O)C1C(=O)NC(CC)C(=O)N(C)CC(=O)N(C)C(CC(C)C)C(=O)NC(C(C)C)C(=O)N(C)C(CC(C)C)C(=O)NC(C)C(=O)NC(C)C(=O)N(C)C(CC(C)C)C(=O)N(C)C(CC(C)C)C(=O)N(C)C(C(C)C)C(=O)N1C\")\n",
        "mol"
      ],
      "metadata": {
        "id": "3nDhLr-wtCcm"
      },
      "execution_count": null,
      "outputs": []
    },
    {
      "cell_type": "code",
      "source": [
        "from rdkit.Chem import rdCoordGen\n",
        "rdCoordGen.AddCoords(mol)\n",
        "mol"
      ],
      "metadata": {
        "id": "Gdx-fU8ztCfM"
      },
      "execution_count": null,
      "outputs": []
    },
    {
      "cell_type": "markdown",
      "source": [
        "## Integrating with matplotlib"
      ],
      "metadata": {
        "id": "OCmUWWlmuEyH"
      }
    },
    {
      "cell_type": "code",
      "source": [
        "import matplotlib.pyplot as plt\n",
        "import numpy as np\n",
        "from rdkit import Chem\n",
        "from rdkit.Chem.Draw import IPythonConsole"
      ],
      "metadata": {
        "id": "gTsTKmw6uIIR"
      },
      "execution_count": null,
      "outputs": []
    },
    {
      "cell_type": "code",
      "source": [
        "x = np.arange(0, 180, 1)\n",
        "y = np.sin(x)"
      ],
      "metadata": {
        "id": "kPIr-5A9uILD"
      },
      "execution_count": null,
      "outputs": []
    },
    {
      "cell_type": "code",
      "source": [
        "mol = Chem.MolFromSmiles('C1CNCCC1C(=O)C')\n",
        "im = Chem.Draw.MolToImage(mol) # Convert to image"
      ],
      "metadata": {
        "id": "9yxLgbG6u241"
      },
      "execution_count": null,
      "outputs": []
    },
    {
      "cell_type": "code",
      "source": [
        "type(im)"
      ],
      "metadata": {
        "id": "zW4FMvCNu27Z"
      },
      "execution_count": null,
      "outputs": []
    },
    {
      "cell_type": "code",
      "source": [
        "fig = plt.figure(figsize=(10,5))\n",
        "plt.plot(x, y)\n",
        "plt.ylim(-1, 5)\n",
        "ax = plt.axes([0.6, 0.47, 0.38, 0.38], frameon=True)\n",
        "ax.imshow(im) # Use imshow to display\n",
        "ax.axis('off')"
      ],
      "metadata": {
        "id": "CHojUH79uINY"
      },
      "execution_count": null,
      "outputs": []
    },
    {
      "cell_type": "markdown",
      "source": [
        "# Identifying features\n",
        "Let's see to look at what features a molecule has, including properties of the atoms that make up the molecule."
      ],
      "metadata": {
        "id": "VzmlZfl1yDTw"
      }
    },
    {
      "cell_type": "markdown",
      "source": [
        "## Counting ring systems"
      ],
      "metadata": {
        "id": "JYyeSPCUyGEg"
      }
    },
    {
      "cell_type": "code",
      "source": [
        "from rdkit import Chem\n",
        "from rdkit.Chem.Draw import IPythonConsole"
      ],
      "metadata": {
        "id": "54B9yBmjyIVQ"
      },
      "execution_count": null,
      "outputs": []
    },
    {
      "cell_type": "code",
      "source": [
        "def GetRingSystems(mol, includeSpiro=False):\n",
        "    ri = mol.GetRingInfo()\n",
        "    systems = []\n",
        "    for ring in ri.AtomRings():\n",
        "        ringAts = set(ring)\n",
        "        nSystems = []\n",
        "        for system in systems:\n",
        "            nInCommon = len(ringAts.intersection(system))\n",
        "            if nInCommon and (includeSpiro or nInCommon>1):\n",
        "                ringAts = ringAts.union(system)\n",
        "            else:\n",
        "                nSystems.append(system)\n",
        "        nSystems.append(ringAts)\n",
        "        systems = nSystems\n",
        "    return systems"
      ],
      "metadata": {
        "id": "6-6wvLcUyIXe"
      },
      "execution_count": null,
      "outputs": []
    },
    {
      "cell_type": "code",
      "source": [
        "mol = Chem.MolFromSmiles('CN1C(=O)CN=C(C2=C1C=CC(=C2)Cl)C3=CC=CC=C3')\n",
        "print(GetRingSystems(mol))"
      ],
      "metadata": {
        "id": "YbVjSPEk7FKV"
      },
      "execution_count": null,
      "outputs": []
    },
    {
      "cell_type": "code",
      "source": [
        "IPythonConsole.drawOptions.addAtomIndices = True\n",
        "mol"
      ],
      "metadata": {
        "id": "Fh3sw0tF7Rby"
      },
      "execution_count": null,
      "outputs": []
    },
    {
      "cell_type": "code",
      "source": [
        "IPythonConsole.drawOptions.addAtomIndices = False"
      ],
      "metadata": {
        "id": "Ct9SRIy2yIcw"
      },
      "execution_count": null,
      "outputs": []
    },
    {
      "cell_type": "markdown",
      "source": [
        "## Identify aromatic rings"
      ],
      "metadata": {
        "id": "WkwgtQNE7kle"
      }
    },
    {
      "cell_type": "markdown",
      "source": [
        "https://rdkit.org/docs/RDKit_Book.html#aromaticity"
      ],
      "metadata": {
        "id": "0uZvTiox7rQC"
      }
    },
    {
      "cell_type": "code",
      "source": [
        "from rdkit import Chem\n",
        "IPythonConsole.drawOptions.addAtomIndices = True\n",
        "IPythonConsole.drawOptions.addBondIndices = True\n",
        "m = Chem.MolFromSmiles('c1cccc2c1CCCC2')\n",
        "m"
      ],
      "metadata": {
        "id": "yy8HuOBg7rYA"
      },
      "execution_count": null,
      "outputs": []
    },
    {
      "cell_type": "code",
      "source": [
        "ri = m.GetRingInfo()\n",
        "# You can interrogate the RingInfo object to tell you the atoms that make up each ring:\n",
        "print(ri.AtomRings())"
      ],
      "metadata": {
        "id": "Fdi0e9vy7raV"
      },
      "execution_count": null,
      "outputs": []
    },
    {
      "cell_type": "code",
      "source": [
        "# or the bonds that make up each ring:\n",
        "print(ri.BondRings())"
      ],
      "metadata": {
        "id": "L2DJrzQ-7rdB"
      },
      "execution_count": null,
      "outputs": []
    },
    {
      "cell_type": "code",
      "source": [
        "# To detect aromatic rings, loop over the bonds in each ring and\n",
        "# flag the ring as aromatic if all bonds are aromatic:\n",
        "def isRingAromatic(mol, bondRing):\n",
        "        for id in bondRing:\n",
        "            if not mol.GetBondWithIdx(id).GetIsAromatic():\n",
        "                return False\n",
        "        return True"
      ],
      "metadata": {
        "id": "31yd6QJA76mT"
      },
      "execution_count": null,
      "outputs": []
    },
    {
      "cell_type": "code",
      "source": [
        "print(isRingAromatic(m, ri.BondRings()[0]))"
      ],
      "metadata": {
        "id": "qvANT0uQ76pB"
      },
      "execution_count": null,
      "outputs": []
    },
    {
      "cell_type": "code",
      "source": [
        "print(isRingAromatic(m, ri.BondRings()[1]))"
      ],
      "metadata": {
        "id": "QnZpTOnV76t4"
      },
      "execution_count": null,
      "outputs": []
    },
    {
      "cell_type": "markdown",
      "source": [
        "## Identify atom properties"
      ],
      "metadata": {
        "id": "grE3W91N8iFb"
      }
    },
    {
      "cell_type": "markdown",
      "source": [
        "### Direct method"
      ],
      "metadata": {
        "id": "9aNuOydtc6GB"
      }
    },
    {
      "cell_type": "code",
      "source": [
        "from rdkit import Chem\n",
        "from rdkit.Chem.Draw import IPythonConsole\n",
        "from rdkit.Chem import Draw\n",
        "IPythonConsole.drawOptions.addAtomIndices = True"
      ],
      "metadata": {
        "id": "EU7dnJBccgU9"
      },
      "execution_count": null,
      "outputs": []
    },
    {
      "cell_type": "code",
      "source": [
        "mol = Chem.MolFromSmiles(\"c1ccccc1C=CCC\")\n",
        "aromatic_carbon = Chem.MolFromSmarts(\"c\")\n",
        "print(mol.GetSubstructMatches(aromatic_carbon))"
      ],
      "metadata": {
        "id": "38KMjyfS8mZ6"
      },
      "execution_count": null,
      "outputs": []
    },
    {
      "cell_type": "code",
      "source": [
        "mol"
      ],
      "metadata": {
        "id": "qp_YspzPcW70"
      },
      "execution_count": null,
      "outputs": []
    },
    {
      "cell_type": "code",
      "source": [
        "# The RDKit includes a SMARTS extension that allows hybridization queries,\n",
        "# here we query for SP2 aliphatic carbons:\n",
        "olefinic_carbon = Chem.MolFromSmarts(\"[C^2]\")\n",
        "print(mol.GetSubstructMatches(olefinic_carbon))"
      ],
      "metadata": {
        "id": "M5b8-pZB8mc7"
      },
      "execution_count": null,
      "outputs": []
    },
    {
      "cell_type": "code",
      "source": [
        "IPythonConsole.drawOptions.addAtomIndices = False"
      ],
      "metadata": {
        "id": "TeZDgf5zfVyp"
      },
      "execution_count": null,
      "outputs": []
    },
    {
      "cell_type": "markdown",
      "source": [
        "### Using rdqueries"
      ],
      "metadata": {
        "id": "tFAwsct_c8--"
      }
    },
    {
      "cell_type": "markdown",
      "source": [
        " See [rdqueries](https://rdkit.org/docs/source/rdkit.Chem.rdqueries.html?highlight=rdqueries) module for more examples on how to use these query tools."
      ],
      "metadata": {
        "id": "jkZRDvsXeQ8G"
      }
    },
    {
      "cell_type": "code",
      "source": [
        "from rdkit.Chem import rdqueries"
      ],
      "metadata": {
        "id": "QoGNGs6oc-xT"
      },
      "execution_count": null,
      "outputs": []
    },
    {
      "cell_type": "code",
      "source": [
        "mol = Chem.MolFromSmiles(\"c1ccccc1C=CCC\")\n",
        "q = rdqueries.IsAromaticQueryAtom()\n",
        "print([x.GetIdx() for x in mol.GetAtomsMatchingQuery(q)])"
      ],
      "metadata": {
        "id": "ZQeOVv3Gc-0K"
      },
      "execution_count": null,
      "outputs": []
    },
    {
      "cell_type": "code",
      "source": [
        "q = rdqueries.HybridizationEqualsQueryAtom(Chem.HybridizationType.SP2)\n",
        "print([x.GetIdx() for x in mol.GetAtomsMatchingQuery(q)])"
      ],
      "metadata": {
        "id": "qVGvySdPc-5U"
      },
      "execution_count": null,
      "outputs": []
    },
    {
      "cell_type": "code",
      "source": [
        "qcombined = rdqueries.IsAliphaticQueryAtom()\n",
        "qcombined.ExpandQuery(q)\n",
        "print([x.GetIdx() for x in mol.GetAtomsMatchingQuery(qcombined)])"
      ],
      "metadata": {
        "id": "Yw2po-twc-8s"
      },
      "execution_count": null,
      "outputs": []
    },
    {
      "cell_type": "markdown",
      "source": [
        "## Substructure matching"
      ],
      "metadata": {
        "id": "xLZt53dXRV9j"
      }
    },
    {
      "cell_type": "code",
      "source": [
        "from rdkit import Chem\n",
        "from rdkit.Chem.Draw import IPythonConsole\n",
        "IPythonConsole.drawOptions.addAtomIndices = True\n",
        "\n",
        "sucrose = \"C([C@@H]1[C@H]([C@@H]([C@H]([C@H](O1)O[C@]2([C@H]([C@@H]([C@H](O2)CO)O)O)CO)O)O)O)O\"\n",
        "sucrose_mol = Chem.MolFromSmiles(sucrose)\n",
        "primary_alcohol = Chem.MolFromSmarts(\"[CH2][OH1]\")\n",
        "\n",
        "sucrose_mol"
      ],
      "metadata": {
        "id": "2OB0s9eXRZoI"
      },
      "execution_count": null,
      "outputs": []
    },
    {
      "cell_type": "code",
      "source": [
        "primary_alcohol"
      ],
      "metadata": {
        "id": "-ud-yBWJRuhb"
      },
      "execution_count": null,
      "outputs": []
    },
    {
      "cell_type": "code",
      "source": [
        "print(sucrose_mol.GetSubstructMatches(primary_alcohol))"
      ],
      "metadata": {
        "id": "59ahNBsCRZrk"
      },
      "execution_count": null,
      "outputs": []
    },
    {
      "cell_type": "code",
      "source": [
        "secondary_alcohol = Chem.MolFromSmarts(\"[CH1][OH1]\")\n",
        "print(sucrose_mol.GetSubstructMatches(secondary_alcohol))"
      ],
      "metadata": {
        "id": "hQDwdSOdRZuQ"
      },
      "execution_count": null,
      "outputs": []
    },
    {
      "cell_type": "code",
      "source": [
        "# Macrocycles\n",
        "erythromycin = Chem.MolFromSmiles(\"CC[C@@H]1[C@@]([C@@H]([C@H](C(=O)[C@@H](C[C@@]([C@@H]([C@H]([C@@H]([C@H](C(=O)O1)C)O[C@H]2C[C@@]([C@H]([C@@H](O2)C)O)(C)OC)C)O[C@H]3[C@@H]([C@H](C[C@H](O3)C)N(C)C)O)(C)O)C)C)O)(C)O\")\n",
        "erythromycin"
      ],
      "metadata": {
        "id": "unIr41k1SFiX"
      },
      "execution_count": null,
      "outputs": []
    },
    {
      "cell_type": "code",
      "source": [
        "# Define SMARTS pattern with ring size > 12\n",
        "# This is an RDKit SMARTS extension\n",
        "macro = Chem.MolFromSmarts(\"[r{12-}]\")\n",
        "print(erythromycin.GetSubstructMatches(macro))"
      ],
      "metadata": {
        "id": "7xXQK1voScx9"
      },
      "execution_count": null,
      "outputs": []
    },
    {
      "cell_type": "code",
      "source": [
        "erythromycin"
      ],
      "metadata": {
        "id": "RZOhqyPzSc2H"
      },
      "execution_count": null,
      "outputs": []
    },
    {
      "cell_type": "code",
      "source": [
        "# Match only within a fragment\n",
        "\n",
        "# Define a function where matches are contained in a single fragment\n",
        "def fragsearch(m,p):\n",
        "    matches = [set(x) for x in m.GetSubstructMatches(p)]\n",
        "    frags = [set(y) for y in Chem.GetMolFrags(m)] # had to add this line for code to work\n",
        "    for frag in frags:\n",
        "        for match in matches:\n",
        "            if match.issubset(frag):\n",
        "                return match\n",
        "    return False"
      ],
      "metadata": {
        "id": "uo86kHlHSc3u"
      },
      "execution_count": null,
      "outputs": []
    },
    {
      "cell_type": "code",
      "source": [
        "p = Chem.MolFromSmarts('O.N')\n",
        "m1 = Chem.MolFromSmiles('OCCCN.CCC') # Set of 2 molecules\n",
        "m2 = Chem.MolFromSmiles('OCCC.CCCN') # Set of another 2 molecules\n",
        "\n",
        "Draw.MolsToGridImage((p, m1, m2))"
      ],
      "metadata": {
        "id": "8emoqwPqVRSe"
      },
      "execution_count": null,
      "outputs": []
    },
    {
      "cell_type": "code",
      "source": [
        "print(m1.HasSubstructMatch(p), fragsearch(m1, p))"
      ],
      "metadata": {
        "id": "RGsTvjRRVRWm"
      },
      "execution_count": null,
      "outputs": []
    },
    {
      "cell_type": "code",
      "source": [
        "m1.GetSubstructMatch(p)"
      ],
      "metadata": {
        "id": "grgNg1rstuwG"
      },
      "execution_count": null,
      "outputs": []
    },
    {
      "cell_type": "code",
      "source": [
        "print(m2.HasSubstructMatch(p), fragsearch(m2, p)) # Requies the are both part of same fragment"
      ],
      "metadata": {
        "id": "cRVYDDRlVjYz"
      },
      "execution_count": null,
      "outputs": []
    },
    {
      "cell_type": "code",
      "source": [
        "m2.GetSubstructMatch(p) # Does not search within same fragment"
      ],
      "metadata": {
        "id": "R59OcP6-t0Rf"
      },
      "execution_count": null,
      "outputs": []
    },
    {
      "cell_type": "code",
      "source": [
        "IPythonConsole.drawOptions.addAtomIndices = False"
      ],
      "metadata": {
        "id": "4qVmcbaxXYPb"
      },
      "execution_count": null,
      "outputs": []
    },
    {
      "cell_type": "markdown",
      "source": [
        "# Manipulating molecules\n",
        "Now, let's look at how to make your own molecules and bonds from scratch."
      ],
      "metadata": {
        "id": "1a7coWY6kVpp"
      }
    },
    {
      "cell_type": "markdown",
      "source": [
        "## Creating a molecule"
      ],
      "metadata": {
        "id": "_pcJvWWjfDYq"
      }
    },
    {
      "cell_type": "code",
      "source": [
        "# You can create a molecule is lots of ways, but if it fails it will always return None\n",
        "good_mol = Chem.MolFromSmiles('Cc1ccccc1') # This always returns canonical version by default so it is reproducible\n",
        "bad_mol = Chem.MolFromSmiles('CO(C)C')\n",
        "# mol = Chem.MolFromMolFile('data/chiral.mol')"
      ],
      "metadata": {
        "id": "lMrUyB6_fFb2"
      },
      "execution_count": null,
      "outputs": []
    },
    {
      "cell_type": "code",
      "source": [
        "good_mol"
      ],
      "metadata": {
        "id": "68UC2AMofFe8"
      },
      "execution_count": null,
      "outputs": []
    },
    {
      "cell_type": "code",
      "source": [
        "type(bad_mol)"
      ],
      "metadata": {
        "id": "Ey6bpOuyfFjd"
      },
      "execution_count": null,
      "outputs": []
    },
    {
      "cell_type": "markdown",
      "source": [
        "Akin to Datasets in Keras, you can stream molecules from files either in raw ASCII with [SmilesMolSupplier](https://www.rdkit.org/docs/source/rdkit.Chem.rdmolfiles.html#rdkit.Chem.rdmolfiles.SmilesMolSupplier) or from a compressed binary file with [ForwardSDMolSupplier](https://www.rdkit.org/docs/source/rdkit.Chem.rdmolfiles.html#rdkit.Chem.rdmolfiles.ForwardSDMolSupplier)\n",
        "\n",
        "Best practice is to check if the molecule is \"good\" when read.\n",
        "\n",
        "~~~python\n",
        "with Chem.SDMolSupplier('data/5ht3ligs.sdf') as suppl:\n",
        "  for mol in suppl:\n",
        "    if mol is None: continue\n",
        "    print(mol.GetNumAtoms())\n",
        "~~~\n",
        "\n",
        "There are MultithreadedSDMolSupplier() versions whose access order becomes random, but at the time of writing this was still experimental."
      ],
      "metadata": {
        "id": "I8dfeEXHoTj6"
      }
    },
    {
      "cell_type": "code",
      "source": [
        "?Chem.MolToSmiles # To see documentation on converting to a SMILES string"
      ],
      "metadata": {
        "id": "-sjc3CVxqZvw"
      },
      "execution_count": null,
      "outputs": []
    },
    {
      "cell_type": "code",
      "source": [
        "# You can create a molecule directly using the RWMol module\n"
      ],
      "metadata": {
        "id": "g4IvSbHSn8Uc"
      },
      "execution_count": null,
      "outputs": []
    },
    {
      "cell_type": "code",
      "source": [],
      "metadata": {
        "id": "rob-o4nTn8YX"
      },
      "execution_count": null,
      "outputs": []
    },
    {
      "cell_type": "code",
      "source": [],
      "metadata": {
        "id": "C2atZcDLn8aa"
      },
      "execution_count": null,
      "outputs": []
    },
    {
      "cell_type": "markdown",
      "source": [
        "## Looping over parts of a molecule"
      ],
      "metadata": {
        "id": "jIaFQwV0tQVM"
      }
    },
    {
      "cell_type": "code",
      "source": [
        "m = Chem.MolFromSmiles('C1OC1')\n",
        "for atom in m.GetAtoms():\n",
        "  print(atom.GetAtomicNum())"
      ],
      "metadata": {
        "id": "fwTryCfXtThi"
      },
      "execution_count": null,
      "outputs": []
    },
    {
      "cell_type": "code",
      "source": [
        "m"
      ],
      "metadata": {
        "id": "Yh-ApPL-ttdp"
      },
      "execution_count": null,
      "outputs": []
    },
    {
      "cell_type": "code",
      "source": [
        "print(\n",
        "    m.GetAtomWithIdx(0).GetSymbol(),\n",
        "    m.GetAtomWithIdx(0).GetExplicitValence(),\n",
        "    m.GetBondWithIdx(0).GetBeginAtomIdx(),\n",
        "    m.GetBondWithIdx(0).GetEndAtomIdx(),\n",
        "    m.GetBondBetweenAtoms(0,1).GetBondType()\n",
        ")"
      ],
      "metadata": {
        "id": "Q0bYJFkztejc"
      },
      "execution_count": null,
      "outputs": []
    },
    {
      "cell_type": "code",
      "source": [
        "# Atoms track their neighbors\n",
        "[a.GetSymbol() for a in m.GetAtomWithIdx(0).GetNeighbors()]"
      ],
      "metadata": {
        "id": "GHLwUhl3tela"
      },
      "execution_count": null,
      "outputs": []
    },
    {
      "cell_type": "markdown",
      "source": [
        "## Re-order atoms"
      ],
      "metadata": {
        "id": "eUcSBy4Xl2xP"
      }
    },
    {
      "cell_type": "code",
      "source": [
        "from rdkit import Chem\n",
        "from rdkit.Chem.Draw import MolsToGridImage"
      ],
      "metadata": {
        "id": "C86p2-dhl5Ru"
      },
      "execution_count": null,
      "outputs": []
    },
    {
      "cell_type": "code",
      "source": [
        "m = Chem.MolFromSmiles(\"c1([C@H](C)CC)cccc2ccccc12\")\n",
        "m1 = Chem.MolFromSmiles(\"c12ccccc1c(ccc2)[C@H](C)CC\")\n",
        "print(Chem.MolToSmiles(m) == Chem.MolToSmiles(m1))"
      ],
      "metadata": {
        "id": "uM1zftpal5Ve"
      },
      "execution_count": null,
      "outputs": []
    },
    {
      "cell_type": "code",
      "source": [
        "# check if current canonical atom ordering matches\n",
        "m_neworder = tuple(zip(*sorted([(j, i) for i, j in enumerate(Chem.CanonicalRankAtoms(m))])))[1]\n",
        "m1_neworder = tuple(zip(*sorted([(j, i) for i, j in enumerate(Chem.CanonicalRankAtoms(m1))])))[1]\n",
        "print(m_neworder == m1_neworder)"
      ],
      "metadata": {
        "id": "0xWmXlBbl5XD"
      },
      "execution_count": null,
      "outputs": []
    },
    {
      "cell_type": "code",
      "source": [
        "# add atom numbers in images\n",
        "def addAtomIndices(mol):\n",
        "    for i, a in enumerate(mol.GetAtoms()):\n",
        "        a.SetAtomMapNum(i)"
      ],
      "metadata": {
        "id": "9uzpaGdAl5Yc"
      },
      "execution_count": null,
      "outputs": []
    },
    {
      "cell_type": "code",
      "source": [
        "addAtomIndices(m)\n",
        "addAtomIndices(m1)\n",
        "MolsToGridImage((m, m1))"
      ],
      "metadata": {
        "id": "QjxpYnJ1l5ew"
      },
      "execution_count": null,
      "outputs": []
    },
    {
      "cell_type": "code",
      "source": [
        "# renumber atoms with same canonical ordering\n",
        "m_renum = Chem.RenumberAtoms(m, m_neworder)\n",
        "m1_renum = Chem.RenumberAtoms(m1, m1_neworder)\n",
        "addAtomIndices(m_renum)\n",
        "addAtomIndices(m1_renum)\n",
        "MolsToGridImage((m_renum, m1_renum))"
      ],
      "metadata": {
        "id": "bnZw_s0Ll5h6"
      },
      "execution_count": null,
      "outputs": []
    },
    {
      "cell_type": "markdown",
      "source": [
        "## Fragmenting a molecule"
      ],
      "metadata": {
        "id": "nIHuI-uPexmj"
      }
    },
    {
      "cell_type": "markdown",
      "source": [
        "### Fragmentation tools"
      ],
      "metadata": {
        "id": "4ZhOmpZDh5-c"
      }
    },
    {
      "cell_type": "code",
      "source": [
        "from rdkit import Chem\n",
        "from rdkit.Chem.Draw import IPythonConsole, MolsToGridImage\n",
        "IPythonConsole.drawOptions.addBondIndices = True\n",
        "IPythonConsole.drawOptions.addAtomIndices = True\n",
        "\n",
        "# I have put explicit bonds in the SMILES definition to facilitate comprehension:\n",
        "mol = Chem.MolFromSmiles(\"O-C-C-C-C-N\")\n",
        "mol1 = Chem.Mol(mol)\n",
        "mol2 = Chem.Mol(mol)\n",
        "mol1"
      ],
      "metadata": {
        "id": "EpsdqeNHeuOV"
      },
      "execution_count": null,
      "outputs": []
    },
    {
      "cell_type": "code",
      "source": [
        "# Chem.FragmentOnBonds() will fragment all specified bond indices at once, and return a single molecule\n",
        "# with all specified cuts applied. By default, addDummies=True, so empty valences are filled with dummy atoms:\n",
        "mol1_f = Chem.FragmentOnBonds(mol1, (0, 2, 4))\n",
        "mol1_f"
      ],
      "metadata": {
        "id": "J4jM9PI1fGnp"
      },
      "execution_count": null,
      "outputs": []
    },
    {
      "cell_type": "code",
      "source": [
        "# This molecule can be split into individual fragments using Chem.GetMolFrags():\n",
        "MolsToGridImage(Chem.GetMolFrags(mol1_f, asMols=True))"
      ],
      "metadata": {
        "id": "x1dK_H82fGp9"
      },
      "execution_count": null,
      "outputs": []
    },
    {
      "cell_type": "code",
      "source": [
        "# Chem.FragmentOnSomeBonds() will fragment according to all permutations of numToBreak bonds at a time\n",
        "# (numToBreak defaults to 1), and return tuple of molecules with numToBreak cuts applied. By default,\n",
        "# addDummies=True, so empty valences are filled with dummy atoms:\n",
        "mol2_f_tuple = Chem.FragmentOnSomeBonds(mol2, (0, 2, 4), numToBreak=1)"
      ],
      "metadata": {
        "id": "_6Z_bMaqfGsL"
      },
      "execution_count": null,
      "outputs": []
    },
    {
      "cell_type": "code",
      "source": [
        "Draw.MolsToGridImage(Chem.GetMolFrags(mol2_f_tuple[0], asMols=True), subImgSize=(250,250))"
      ],
      "metadata": {
        "id": "JEjiMi78fG2t"
      },
      "execution_count": null,
      "outputs": []
    },
    {
      "cell_type": "code",
      "source": [
        "Draw.MolsToGridImage(Chem.GetMolFrags(mol2_f_tuple[1], asMols=True), subImgSize=(250,250))"
      ],
      "metadata": {
        "id": "80bwK4Yig26P"
      },
      "execution_count": null,
      "outputs": []
    },
    {
      "cell_type": "code",
      "source": [
        "Draw.MolsToGridImage(Chem.GetMolFrags(mol2_f_tuple[2], asMols=True), subImgSize=(250,250))"
      ],
      "metadata": {
        "id": "3i5VMh_6g29A"
      },
      "execution_count": null,
      "outputs": []
    },
    {
      "cell_type": "markdown",
      "source": [
        "### Manually remove bonds"
      ],
      "metadata": {
        "id": "GSFmKX8Sh93X"
      }
    },
    {
      "cell_type": "code",
      "source": [
        "# Finally, you can manually cut bonds using Chem.RWMol.RemoveBonds:\n",
        "with Chem.RWMol(mol) as rwmol:\n",
        "  for b_idx in [0, 2, 4]:\n",
        "    b = rwmol.GetBondWithIdx(b_idx)\n",
        "    rwmol.RemoveBond(b.GetBeginAtomIdx(), b.GetEndAtomIdx())\n",
        "# And then call Chem.GetMolFrags() to get sanitized fragments where empty valences were filled with implicit hydrogens:\n",
        "MolsToGridImage(Chem.GetMolFrags(rwmol, asMols=True))"
      ],
      "metadata": {
        "id": "fvRVpyezg3B2"
      },
      "execution_count": null,
      "outputs": []
    },
    {
      "cell_type": "code",
      "source": [
        "IPythonConsole.drawOptions.addBondIndices = False\n",
        "IPythonConsole.drawOptions.addAtomIndices = False"
      ],
      "metadata": {
        "id": "tV5HTk9-g8LY"
      },
      "execution_count": null,
      "outputs": []
    },
    {
      "cell_type": "markdown",
      "source": [
        "### Murcko decomposition"
      ],
      "metadata": {
        "id": "6MUTql61vZji"
      }
    },
    {
      "cell_type": "code",
      "source": [
        "# RDKit provides standard Murcko-type decomposition of molecules into scaffolds:\n",
        "\n",
        "import requests\n",
        "r = requests.get('https://raw.githubusercontent.com/rdkit/rdkit/master/Docs/Book/data/cdk2.sdf')\n",
        "f = open('cdk2.sdf', 'w')\n",
        "f.write(r.text)\n",
        "f.close()"
      ],
      "metadata": {
        "id": "opJsIZ0Ave4S"
      },
      "execution_count": null,
      "outputs": []
    },
    {
      "cell_type": "code",
      "source": [
        "from rdkit.Chem.Scaffolds import MurckoScaffold\n",
        "with Chem.SDMolSupplier('cdk2.sdf') as cdk2mols:\n",
        "  m1 = cdk2mols[0]\n",
        "core = MurckoScaffold.GetScaffoldForMol(m1)\n",
        "Chem.MolToSmiles(core)"
      ],
      "metadata": {
        "id": "QLuElHNkxTUK"
      },
      "execution_count": null,
      "outputs": []
    },
    {
      "cell_type": "code",
      "source": [
        "core"
      ],
      "metadata": {
        "id": "llV4RY9KvkHW"
      },
      "execution_count": null,
      "outputs": []
    },
    {
      "cell_type": "code",
      "source": [
        "# Or into a generic framework\n",
        "fw = MurckoScaffold.MakeScaffoldGeneric(core)\n",
        "Chem.MolToSmiles(fw)"
      ],
      "metadata": {
        "id": "hP7z68yFve6w"
      },
      "execution_count": null,
      "outputs": []
    },
    {
      "cell_type": "code",
      "source": [
        "fw"
      ],
      "metadata": {
        "id": "THmTL47jxojq"
      },
      "execution_count": null,
      "outputs": []
    },
    {
      "cell_type": "markdown",
      "source": [
        "## Enumerating products / functionalized results"
      ],
      "metadata": {
        "id": "m5HGiTwrjQ7y"
      }
    },
    {
      "cell_type": "code",
      "source": [
        "from rdkit import Chem\n",
        "from rdkit.Chem import Draw\n",
        "from rdkit.Chem import AllChem\n",
        "\n",
        "from rdkit.Chem.Draw import IPythonConsole\n",
        "IPythonConsole.drawOptions.addAtomIndices = True"
      ],
      "metadata": {
        "id": "TCkipA2lOkJ2"
      },
      "execution_count": null,
      "outputs": []
    },
    {
      "cell_type": "code",
      "source": [
        "# Replace sidechains on a core and enumerate the combinations\n",
        "core = '*c1c(C)cccc1(O)'\n",
        "core_mol = Chem.MolFromSmiles(core)\n",
        "chain = 'CN*'\n",
        "chain_mol = Chem.MolFromSmiles(chain)"
      ],
      "metadata": {
        "id": "TXxe7bOaOtaK"
      },
      "execution_count": null,
      "outputs": []
    },
    {
      "cell_type": "code",
      "source": [
        "Draw.MolsToGridImage((core_mol, chain_mol), subImgSize=(250,250))"
      ],
      "metadata": {
        "id": "pT65jEv5PEmB"
      },
      "execution_count": null,
      "outputs": []
    },
    {
      "cell_type": "code",
      "source": [
        "rxn = AllChem.ReactionFromSmarts('[c:1][#0].[#0][*:2]>>[c:1]-[*:2]')\n",
        "reacts = (core_mol, chain_mol)\n",
        "products = rxn.RunReactants(reacts) # tuple\n",
        "print(len(products))"
      ],
      "metadata": {
        "id": "okKXcpiFPEra"
      },
      "execution_count": null,
      "outputs": []
    },
    {
      "cell_type": "code",
      "source": [
        "print(Chem.MolToSmiles(products[0][0]))"
      ],
      "metadata": {
        "id": "Y1aT-EEYPEuE"
      },
      "execution_count": null,
      "outputs": []
    },
    {
      "cell_type": "code",
      "source": [
        "products[0][0]"
      ],
      "metadata": {
        "id": "Csc_dNlePddC"
      },
      "execution_count": null,
      "outputs": []
    },
    {
      "cell_type": "code",
      "source": [
        "# The above reaction-based approach is flexible, however if you can generate your\n",
        "# sidechains in such a way that the atom you want to attach to the core\n",
        "# is the first one (atom zero), there's a somewhat easier way to do this\n",
        "# kind of simple replacement:\n",
        "\n",
        "products = Chem.ReplaceSubstructs(core_mol, Chem.MolFromSmarts('[#0]'), chain_mol) # tuple\n",
        "print(Chem.MolToSmiles(products[0]))\n",
        "\n",
        "# Can also do things with Chem.DeleteSubstructs"
      ],
      "metadata": {
        "id": "aT-SrqKuPpgD"
      },
      "execution_count": null,
      "outputs": []
    },
    {
      "cell_type": "code",
      "source": [
        "products[0]"
      ],
      "metadata": {
        "id": "ji4JXZjRP_3P"
      },
      "execution_count": null,
      "outputs": []
    },
    {
      "cell_type": "code",
      "source": [
        "# Here is an example in a loop for an imidazolium core with alkyl chains\n",
        "\n",
        "core_mol = Chem.MolFromSmiles('*[n+]1cc[nH]c1')\n",
        "chains = ['C','CC','CCC','CCCC','CCCCC','CCCCCC']\n",
        "chainMols = [Chem.MolFromSmiles(chain) for chain in chains]\n",
        "\n",
        "product_smi = []\n",
        "for chainMol in chainMols:\n",
        "    product_mol = Chem.ReplaceSubstructs(core_mol, Chem.MolFromSmarts('[#0]'), chainMol)\n",
        "    product_smi.append(Chem.MolToSmiles(product_mol[0]))\n",
        "print(product_smi)"
      ],
      "metadata": {
        "id": "QrVtibLMQCn8"
      },
      "execution_count": null,
      "outputs": []
    },
    {
      "cell_type": "code",
      "source": [
        "# View the enumerated molecules:\n",
        "Draw.MolsToGridImage([Chem.MolFromSmiles(smi) for smi in product_smi])"
      ],
      "metadata": {
        "id": "ZjQhJdLsQWMr"
      },
      "execution_count": null,
      "outputs": []
    },
    {
      "cell_type": "code",
      "source": [
        "IPythonConsole.drawOptions.addAtomIndices = False"
      ],
      "metadata": {
        "id": "G9ZkWw-EQfQZ"
      },
      "execution_count": null,
      "outputs": []
    },
    {
      "cell_type": "markdown",
      "source": [
        "# Descriptors"
      ],
      "metadata": {
        "id": "Vn6JL1yuV95a"
      }
    },
    {
      "cell_type": "markdown",
      "source": [
        "## 2D Depictions\n",
        "\n",
        "\"The RDKit has a library for generating depictions (sets of 2D) coordinates for \n",
        "molecules. This library, which is part of the AllChem module, is accessed using \n",
        "the rdkit.Chem.rdDepictor.Compute2DCoords() function.\"\n",
        "\n",
        "2D conformers are constructed in a canonical orientation to minimize \n",
        "intramolecular clashes, i.e. to maximize the clarity of the drawing.\n",
        "\n",
        "See https://github.com/rdkit/rdkit/blob/master/Docs/Notebooks/FingerprintGenerators.ipynb "
      ],
      "metadata": {
        "id": "2FN8m-f9vPz1"
      }
    },
    {
      "cell_type": "code",
      "source": [
        "from rdkit import Chem\n",
        "from rdkit.Chem.Draw import IPythonConsole\n",
        "m = Chem.MolFromSmiles('c1nccc2n1ccc2')\n",
        "AllChem.Compute2DCoords(m)\n",
        "\n",
        "# You can save images of these molecules, or pickel them\n",
        "# Draw.MolToFile(m, 'molecule.png')\n",
        "# pickle.dump(m, open('moleculte.pkl', 'wb'))"
      ],
      "metadata": {
        "id": "ya0CjzAkuyRH"
      },
      "execution_count": null,
      "outputs": []
    },
    {
      "cell_type": "code",
      "source": [
        "# For visual clarity sometimes it is helpful to show molecules with the same substructure aligned\n",
        "template = Chem.MolFromSmiles('c1nccc2n1ccc2')\n",
        "AllChem.Compute2DCoords(template)\n",
        "\n",
        "ms = [Chem.MolFromSmiles(smi) for smi in ('OCCc1ccn2cnccc12','C1CC1Oc1cc2ccncn2c1','CNC(=O)c1nccc2cccn12')]"
      ],
      "metadata": {
        "id": "R2rCX3kBuyVu"
      },
      "execution_count": null,
      "outputs": []
    },
    {
      "cell_type": "code",
      "source": [
        "# A PIL image is produced from this\n",
        "img = Draw.MolsToGridImage(ms)\n",
        "\n",
        "img\n",
        "# img.save('image.png') "
      ],
      "metadata": {
        "id": "WzwwbTT8x7ti"
      },
      "execution_count": null,
      "outputs": []
    },
    {
      "cell_type": "code",
      "source": [
        "for m in ms:\n",
        "  _ = AllChem.GenerateDepictionMatching2DStructure(m, template) # Modified in-place\n",
        "Draw.MolsToGridImage(ms)"
      ],
      "metadata": {
        "id": "moN0EoEryE4J"
      },
      "execution_count": null,
      "outputs": []
    },
    {
      "cell_type": "markdown",
      "source": [
        "## Molecule Hash Strings"
      ],
      "metadata": {
        "id": "OdOOLP89XQbE"
      }
    },
    {
      "cell_type": "code",
      "source": [
        "from rdkit import Chem\n",
        "from rdkit.Chem import rdMolHash\n",
        "import rdkit\n",
        "\n",
        "IPythonConsole.drawOptions.addAtomIndices = True"
      ],
      "metadata": {
        "id": "ri8kLSZxWACh"
      },
      "execution_count": null,
      "outputs": []
    },
    {
      "cell_type": "code",
      "source": [
        "s = Chem.MolFromSmiles('CC(C(C1=CC(=C(C=C1)O)O)O)N(C)C(=O)OCC2=CC=CC=C2')\n",
        "s"
      ],
      "metadata": {
        "id": "_LmdeXA-XS3G"
      },
      "execution_count": null,
      "outputs": []
    },
    {
      "cell_type": "code",
      "source": [
        "#  View all of the MolHash hashing functions types with the names method.\n",
        "molhashf = rdMolHash.HashFunction.names\n",
        "molhashf"
      ],
      "metadata": {
        "id": "mxMdDHJwXbht"
      },
      "execution_count": null,
      "outputs": []
    },
    {
      "cell_type": "code",
      "source": [
        "# Generate MolHashes for molecule 's' with all defined hash functions.\n",
        "for i, j in molhashf.items():\n",
        "    print(i, rdMolHash.MolHash(s, j))"
      ],
      "metadata": {
        "id": "GeR9vr8-XhJc"
      },
      "execution_count": null,
      "outputs": []
    },
    {
      "cell_type": "markdown",
      "source": [
        "## Wiener index"
      ],
      "metadata": {
        "id": "7i4dhPL3d5_R"
      }
    },
    {
      "cell_type": "markdown",
      "source": [
        "The [Wiener index](https://en.wikipedia.org/wiki/Wiener_index) is a topological index for a molecule, defined as the sum of the lengths of the shortest paths between all pairs of vertices in the chemical graph representing the non-hydrogen atoms in the molecule."
      ],
      "metadata": {
        "id": "4RFCa_6jeVjB"
      }
    },
    {
      "cell_type": "code",
      "source": [
        "from rdkit import Chem\n",
        "def wiener_index(m):\n",
        "    res = 0\n",
        "    amat = Chem.GetDistanceMatrix(m)\n",
        "    num_atoms = m.GetNumAtoms()\n",
        "    for i in range(num_atoms):\n",
        "        for j in range(i+1,num_atoms):\n",
        "            res += amat[i][j]\n",
        "    return res"
      ],
      "metadata": {
        "id": "mN1l8RHgd4_m"
      },
      "execution_count": null,
      "outputs": []
    },
    {
      "cell_type": "code",
      "source": [
        "butane = Chem.MolFromSmiles('CCCC')\n",
        "print(wiener_index(butane))"
      ],
      "metadata": {
        "id": "ZzwaAkG1d_Ft"
      },
      "execution_count": null,
      "outputs": []
    },
    {
      "cell_type": "code",
      "source": [
        "Chem.GetDistanceMatrix(butane)"
      ],
      "metadata": {
        "id": "3XWabzsferOT"
      },
      "execution_count": null,
      "outputs": []
    },
    {
      "cell_type": "code",
      "source": [
        "butane"
      ],
      "metadata": {
        "id": "XPtfImyhet5K"
      },
      "execution_count": null,
      "outputs": []
    },
    {
      "cell_type": "code",
      "source": [
        "isobutane = Chem.MolFromSmiles('CC(C)C')\n",
        "print(wiener_index(isobutane))"
      ],
      "metadata": {
        "id": "4lAn7BDtd_KM"
      },
      "execution_count": null,
      "outputs": []
    },
    {
      "cell_type": "code",
      "source": [
        "Chem.GetDistanceMatrix(isobutane)"
      ],
      "metadata": {
        "id": "GkUJl2ZBeBJ0"
      },
      "execution_count": null,
      "outputs": []
    },
    {
      "cell_type": "code",
      "source": [
        "isobutane"
      ],
      "metadata": {
        "id": "5ozKLqlXeyuY"
      },
      "execution_count": null,
      "outputs": []
    },
    {
      "cell_type": "markdown",
      "source": [
        "## Tanimoto similarity"
      ],
      "metadata": {
        "id": "QO48hNvjbpA5"
      }
    },
    {
      "cell_type": "code",
      "source": [],
      "metadata": {
        "id": "w5hreqBkbrdT"
      },
      "execution_count": null,
      "outputs": []
    }
  ]
}