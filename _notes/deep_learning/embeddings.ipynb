{
  "nbformat": 4,
  "nbformat_minor": 0,
  "metadata": {
    "colab": {
      "private_outputs": true,
      "provenance": [],
      "authorship_tag": "ABX9TyPWGp66k8fhEiLYEEWX+FPU"
    },
    "kernelspec": {
      "name": "python3",
      "display_name": "Python 3"
    },
    "language_info": {
      "name": "python"
    }
  },
  "cells": [
    {
      "cell_type": "markdown",
      "source": [
        "# Embeddings\n",
        "\n",
        "Embeddings are a critical tool for making neural networks efficient, especially when it comes to tabular data.  Embeddings allow NN to be as powerful and tree ensemble methods for tabular data.  \n",
        "\n",
        "When a table contains raw data (text or images) or have very high cardinality categorical features it is generally recommended to use NN instead of random forests, for example."
      ],
      "metadata": {
        "id": "Fv0k6-aoI3e0"
      }
    },
    {
      "cell_type": "code",
      "source": [],
      "metadata": {
        "id": "R10zUwuzQx8Y"
      },
      "execution_count": null,
      "outputs": []
    }
  ]
}