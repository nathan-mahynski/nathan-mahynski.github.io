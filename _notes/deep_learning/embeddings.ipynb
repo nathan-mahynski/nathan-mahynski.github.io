{
  "cells": [
    {
      "cell_type": "code",
      "source": [
        "!pip install fastai\n",
        "import pandas as pd\n",
        "import numpy as np\n",
        "import torch\n",
        "import fastai"
      ],
      "metadata": {
        "id": "IJFCNepMxQ-D"
      },
      "execution_count": null,
      "outputs": []
    },
    {
      "cell_type": "code",
      "source": [
        "print(dict(\n",
        "    torch=torch.__version__, \n",
        "    fastai=fastai.__version__, \n",
        "    pandas=pd.__version__, \n",
        "    numpy=np.__version__))"
      ],
      "metadata": {
        "id": "ZNyL9b2ZzoHk"
      },
      "execution_count": null,
      "outputs": []
    },
    {
      "cell_type": "markdown",
      "source": [
        "# Embeddings\n",
        "\n",
        "Embeddings are a critical tool for making neural networks efficient, especially when it comes to tabular data.  Embeddings allow NN to be as powerful and tree ensemble methods for tabular data.  \n",
        "\n",
        "When a table contains raw data (text or images) or have very high cardinality categorical features it is generally recommended to use NN instead of random forests, for example."
      ],
      "metadata": {
        "id": "51MulkwgxRkd"
      }
    },
    {
      "cell_type": "code",
      "execution_count": null,
      "metadata": {
        "id": "R10zUwuzQx8Y"
      },
      "outputs": [],
      "source": [
        "import torch"
      ]
    },
    {
      "cell_type": "code",
      "execution_count": null,
      "metadata": {
        "id": "vhSsqRwTwDEm"
      },
      "outputs": [],
      "source": []
    },
    {
      "cell_type": "markdown",
      "metadata": {
        "id": "Ko9tF_wKwDEn"
      },
      "source": [
        "# Collaborative Filtering\n",
        "\n",
        "Collaborative filtering uses embeddings to find latent factors connecting categorical or labeled inputs and outputs (for example, usernames vs. movie titles).  \n",
        "\n",
        "Approximately:\n",
        "* Regression model ~ Continuous input -> continuous output\n",
        "* Classification model ~ Continuous input -> categorical/labeled output \n",
        "* Collaborative filtering ~ Categorical/labels -> Categorical/labels"
      ]
    },
    {
      "cell_type": "markdown",
      "source": [
        "## Example\n",
        "\n",
        "This is from [\"Deep learning for coders with fastai & pytorch\"](https://www.amazon.com/Deep-Learning-Coders-fastai-PyTorch/dp/1492045527) (Chapter 8).\n",
        "\n",
        "Here we are trying to find the latent factors controlling the connection between users and the movies the like."
      ],
      "metadata": {
        "id": "XS7bsvlbxk64"
      }
    },
    {
      "cell_type": "code",
      "source": [
        "from fastai.collab import *\n",
        "from fastai.tabular.all import *"
      ],
      "metadata": {
        "id": "Aa9v6me7w8Uy"
      },
      "execution_count": null,
      "outputs": []
    },
    {
      "cell_type": "code",
      "source": [
        "path = untar_data(URLs.ML_100k)\n",
        "ratings = pd.read_csv(path/'u.data', delimiter='\\t', header=None, names=['user', 'movie', 'rating', 'timestamp'])\n",
        "movies = pd.read_csv(path/'u.item', delimiter='|', encoding='latin-1', usecols=(0,1), names=('movie', 'title'), header=None)"
      ],
      "metadata": {
        "id": "lGvFj2Cgw659"
      },
      "execution_count": null,
      "outputs": []
    },
    {
      "cell_type": "code",
      "source": [
        "movies.head()"
      ],
      "metadata": {
        "id": "oafnXYZRxAAP"
      },
      "execution_count": null,
      "outputs": []
    },
    {
      "cell_type": "code",
      "source": [
        "ratings.head()"
      ],
      "metadata": {
        "id": "zziFz2nJxiF_"
      },
      "execution_count": null,
      "outputs": []
    },
    {
      "cell_type": "code",
      "source": [
        "ratings = ratings.merge(movies) # merge based on movie (common column)"
      ],
      "metadata": {
        "id": "yk9JbRZyySfz"
      },
      "execution_count": null,
      "outputs": []
    },
    {
      "cell_type": "code",
      "source": [
        "dls = CollabDataLoaders.from_df(ratings, item_name='title', bs=64) # Make a dataloader from the dataframe\n",
        "dls.show_batch()"
      ],
      "metadata": {
        "id": "op23pJk1yvp1"
      },
      "execution_count": null,
      "outputs": []
    },
    {
      "cell_type": "code",
      "source": [],
      "metadata": {
        "id": "vE1w_6F0zCYv"
      },
      "execution_count": null,
      "outputs": []
    }
  ],
  "metadata": {
    "colab": {
      "private_outputs": true,
      "provenance": []
    },
    "kernelspec": {
      "display_name": "Python 3",
      "name": "python3"
    },
    "language_info": {
      "name": "python"
    }
  },
  "nbformat": 4,
  "nbformat_minor": 0
}