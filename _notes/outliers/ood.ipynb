{
  "cells": [
    {
      "cell_type": "code",
      "source": [
        "# !pip install dime-torch\n",
        "import torch"
      ],
      "metadata": {
        "id": "Ke-nS-R2o7iN"
      },
      "execution_count": null,
      "outputs": []
    },
    {
      "cell_type": "markdown",
      "metadata": {
        "id": "JoljWP1_5rVX"
      },
      "source": [
        "# Out of Distribution Detection Examples and Strategies"
      ]
    },
    {
      "cell_type": "markdown",
      "metadata": {
        "id": "u8fZoQFdlYS9"
      },
      "source": [
        "## Detecting covariate shifts with Random Forests\n",
        "\n",
        "One example from [Deep learning for coders with fastai & pytorch](https://www.amazon.com/Deep-Learning-Coders-fastai-PyTorch/dp/1492045527) is how to cleverly use a random forest to detect the possibility of having OOD data from covariate shifts.\n",
        "\n",
        "Strategy:\n",
        "1. Create your test/train split. Sometimes, especially for forecasing things in the future a good train/test split is NOT a random mix and division - instead, a training set may occur earlier in time, while the test occurs later in the future.  It is important to check if there are covariate shifts occuring as things change over time.\n",
        "2. Use a RF to predict if a row comes from the training set or test set. If the model performs well, you have some detectable shift in your data - in this example, premised on shifts over time.\n",
        "3. Examine the RF feature importances to explain what is changing over time.\n",
        "\n",
        "Reasoning:\n",
        "* RFs are fast, easy to train and are robust against most hyperparameter choices so your results won't be very dependent on selection of a bad model.\n",
        "* Your data does need to be tabular and RF-friendly (i.e., hopefully no very high cardinality categorical features)"
      ]
    },
    {
      "cell_type": "markdown",
      "source": [
        "# OOD for Neural Networks\n",
        "\n",
        "Most NN are applicable under \"closed world\" settings, that is, they are expected to see the same classes at test time as they were trained on.  It is possible to modify the training of the network to be able to detect distribution shifts, and thus predict if the input is something novel, but this requires re-training models that have already been trained. It also complicates the implementation.  Here, I discuss 3 methods to detect OOD samples that do not require re-training.\n",
        "\n",
        "If you have a model and an OOD detector trained, you can use them in tandem like this:"
      ],
      "metadata": {
        "id": "w5f3P9NolfTd"
      }
    },
    {
      "cell_type": "code",
      "source": [
        "class OpenWorldClassifier:\n",
        "    def __init__(self, closed_world_model, ood_detector):\n",
        "        self.model = closed_world_model\n",
        "        self.ood_detector = ood_detector\n",
        "        return\n",
        "\n",
        "    def predict(self, X):\n",
        "        X = np.asarray(X)\n",
        "\n",
        "        # 1. Check which samples are 'in-distribution'\n",
        "        in_distribution = self.ood_detector(X)\n",
        "\n",
        "        # 2. Default to 'UNKNOWN'\n",
        "        predictions = np.array(['UNKNOWN'] * X.shape[0])\n",
        "\n",
        "        # 3. If ID, use model\n",
        "        predictions[np.where(in_distribution)] = self.model.predict(X[in_distribution])\n",
        "\n",
        "        return predictions"
      ],
      "metadata": {
        "id": "cYM9KQC7onQV"
      },
      "execution_count": null,
      "outputs": []
    },
    {
      "cell_type": "markdown",
      "source": [
        "## Softmax Confidence Scores"
      ],
      "metadata": {
        "id": "T-3K-3fdm8vz"
      }
    },
    {
      "cell_type": "code",
      "source": [],
      "metadata": {
        "id": "p3FJ7Lcpm-5E"
      },
      "execution_count": null,
      "outputs": []
    },
    {
      "cell_type": "code",
      "source": [],
      "metadata": {
        "id": "JJECj29cm_bR"
      },
      "execution_count": null,
      "outputs": []
    },
    {
      "cell_type": "markdown",
      "source": [
        "## Energy-based OOD"
      ],
      "metadata": {
        "id": "oZTDiYq0m_gs"
      }
    },
    {
      "cell_type": "code",
      "source": [],
      "metadata": {
        "id": "a8Q_MPXlnCRM"
      },
      "execution_count": null,
      "outputs": []
    },
    {
      "cell_type": "code",
      "source": [],
      "metadata": {
        "id": "2rjRcv9KnCuS"
      },
      "execution_count": null,
      "outputs": []
    },
    {
      "cell_type": "markdown",
      "source": [
        "## DIME"
      ],
      "metadata": {
        "id": "FHaJnZhgnC2w"
      }
    },
    {
      "cell_type": "code",
      "source": [],
      "metadata": {
        "id": "q_6PnFNznEBc"
      },
      "execution_count": null,
      "outputs": []
    }
  ],
  "metadata": {
    "colab": {
      "collapsed_sections": [
        "JoljWP1_5rVX",
        "nSiBXyA19yPh",
        "pwe5OqsXAl_b",
        "kbgyXImwF7ir",
        "DNagg7cnF_Ow"
      ],
      "name": "notes.ipynb",
      "provenance": []
    },
    "kernelspec": {
      "display_name": "Python 3",
      "name": "python3"
    },
    "language_info": {
      "name": "python"
    }
  },
  "nbformat": 4,
  "nbformat_minor": 0
}